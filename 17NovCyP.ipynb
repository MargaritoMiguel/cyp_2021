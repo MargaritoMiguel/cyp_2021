{
  "nbformat": 4,
  "nbformat_minor": 0,
  "metadata": {
    "colab": {
      "name": "17NovCyP.ipynb",
      "provenance": [],
      "authorship_tag": "ABX9TyNvkgDJic4NrcBB7bTPDM74",
      "include_colab_link": true
    },
    "kernelspec": {
      "name": "python3",
      "display_name": "Python 3"
    }
  },
  "cells": [
    {
      "cell_type": "markdown",
      "metadata": {
        "id": "view-in-github",
        "colab_type": "text"
      },
      "source": [
        "<a href=\"https://colab.research.google.com/github/MargaritoMiguel/cyp_2021/blob/main/17NovCyP.ipynb\" target=\"_parent\"><img src=\"https://colab.research.google.com/assets/colab-badge.svg\" alt=\"Open In Colab\"/></a>"
      ]
    },
    {
      "cell_type": "code",
      "metadata": {
        "colab": {
          "base_uri": "https://localhost:8080/"
        },
        "id": "HxPvdtdCSFDD",
        "outputId": "7f11e2ab-2aa4-4782-b6bc-b5d93f4c6df5"
      },
      "source": [
        "  edad= 15\n",
        "  estatura=1.67\n",
        "  a = 10\n",
        "  b= 3\n",
        "\n",
        "  c= 2 ** b + 2 + 3 +4\n",
        "  print( c )\n",
        "  e= estatura * 2.0\n",
        "  print(e)\n",
        "  f = a/b #en python se gace el calculo exacto\n",
        "  print(f)\n",
        "  # tambien se puede forzar al calculo\n",
        "  g = a//b\n",
        "  print(\"g=\" ,g)\n",
        "  h = a % b\n",
        "  print( \"h=\" ,h)\n",
        "  #modulo reciduo de los enteros con %\n",
        "  num = 10\n",
        "  print(\" es par num?\" ,(num%2)==0) \n"
      ],
      "execution_count": 19,
      "outputs": [
        {
          "output_type": "stream",
          "text": [
            "17\n",
            "3.34\n",
            "3.3333333333333335\n",
            "g= 3\n",
            "h= 1\n",
            " es par num? True\n"
          ],
          "name": "stdout"
        }
      ]
    },
    {
      "cell_type": "code",
      "metadata": {
        "colab": {
          "base_uri": "https://localhost:8080/"
        },
        "id": "ZmVXiDZpW3ye",
        "outputId": "d122341a-0bc7-4ccc-bd19-47527552de6a"
      },
      "source": [
        "ecuacion= 9 + 7  * 8 - 36 / 7\n",
        "print(ecuacion)\n",
        "\n",
        "ecuacion= (9+7)*8-36/7 #9+7= 16 * 8 =128-36/5 = 128-7.2= 120\n",
        "print(ecuacion)\n",
        "\n",
        "ecuacion= 9 + 7 * ( 8 - 36 ) / 7\n",
        "print(ecuacion)"
      ],
      "execution_count": 24,
      "outputs": [
        {
          "output_type": "stream",
          "text": [
            "59.857142857142854\n",
            "122.85714285714286\n",
            "-19.0\n"
          ],
          "name": "stdout"
        }
      ]
    },
    {
      "cell_type": "code",
      "metadata": {
        "colab": {
          "base_uri": "https://localhost:8080/"
        },
        "id": "4ncmyQiKb1Y7",
        "outputId": "f37d9ae8-bd6e-419b-c18c-b40e5e7c4322"
      },
      "source": [
        "#operadores logicos\n",
        "x= 5\n",
        "y=4\n",
        "\n",
        "valor= (x==y)# Son iguales True\n",
        "print(valor)\n",
        "\n",
        "valor= (x!=y)# Son diferentes verdedero\n",
        "print(valor)\n",
        "\n",
        "valor= (x<y) #x es menor que y?? False\n",
        "print(valor)\n",
        "\n",
        "valor= (x>y) #x es mayor que y?? True\n",
        "print(valor) \n",
        "y=5\n",
        "valor= (x<=y) #x es menor o igual que y?? False\n",
        "print(valor)\n",
        "\n",
        "valor= (x>=y) #x es mayor o igual que y?? True\n",
        "print(valor)\n"
      ],
      "execution_count": 38,
      "outputs": [
        {
          "output_type": "stream",
          "text": [
            "False\n",
            "True\n",
            "False\n",
            "True\n",
            "True\n",
            "True\n"
          ],
          "name": "stdout"
        }
      ]
    },
    {
      "cell_type": "code",
      "metadata": {
        "colab": {
          "base_uri": "https://localhost:8080/"
        },
        "id": "Rx0Scar6faeR",
        "outputId": "8c835db2-e038-43cc-93e7-6d85d778fd96"
      },
      "source": [
        " precio_chetos= 7.0\n",
        " tienda_abierta = True\n",
        " capital_en_bolsa= 10.0\n",
        " se_compra = (precio_chetos < capital_en_bolsa)and(tienda_abierta == True)\n",
        " print(se_compra)"
      ],
      "execution_count": 46,
      "outputs": [
        {
          "output_type": "stream",
          "text": [
            "True\n"
          ],
          "name": "stdout"
        }
      ]
    }
  ]
}