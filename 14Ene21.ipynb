{
  "nbformat": 4,
  "nbformat_minor": 0,
  "metadata": {
    "colab": {
      "name": "14Ene21.ipynb",
      "provenance": [],
      "authorship_tag": "ABX9TyNgPAdsw2dqnCehJ8BZy/9P",
      "include_colab_link": true
    },
    "kernelspec": {
      "name": "python3",
      "display_name": "Python 3"
    }
  },
  "cells": [
    {
      "cell_type": "markdown",
      "metadata": {
        "id": "view-in-github",
        "colab_type": "text"
      },
      "source": [
        "<a href=\"https://colab.research.google.com/github/MargaritoMiguel/cyp_2021/blob/main/14Ene21.ipynb\" target=\"_parent\"><img src=\"https://colab.research.google.com/assets/colab-badge.svg\" alt=\"Open In Colab\"/></a>"
      ]
    },
    {
      "cell_type": "markdown",
      "metadata": {
        "id": "a2kmf28M5Jrq"
      },
      "source": [
        "# Palabras reservadas de Python \r\n",
        "1.  False\r\n",
        "1.  None\r\n",
        "1.  True\r\n",
        "1.  and\r\n",
        "1.  as\r\n",
        "1.  assert\r\n",
        "1.  break\r\n",
        "1.  class\r\n",
        "1.  continue\r\n",
        "1.  def\r\n",
        "1.  del\r\n",
        "1.  elif\r\n",
        "1.  else\r\n",
        "1.  except\r\n",
        "1.  finally\r\n",
        "1.  for\r\n",
        "1.  from\r\n",
        "1.  global\r\n",
        "1.  if\r\n",
        "1.  import\r\n",
        "1.  in\r\n",
        "1.  is\r\n",
        "1.  lambda\r\n",
        "1.  nonlocal\r\n",
        "1.  not\r\n",
        "1.  or\r\n",
        "1.  pass\r\n",
        "1.  raise\r\n",
        "1.  return\r\n",
        "1.  try\r\n",
        "1.  while\r\n",
        "1.  with\r\n",
        "1.  yield\r\n",
        "\r\n"
      ]
    },
    {
      "cell_type": "code",
      "metadata": {
        "colab": {
          "base_uri": "https://localhost:8080/"
        },
        "id": "Aldjvk8y5ZbH",
        "outputId": "3341a357-00e7-4a5d-a1e8-31a6fd9dd712"
      },
      "source": [
        "import keyword\r\n",
        "pr = keyword.kwlist\r\n",
        "print( len(pr))\r\n",
        "for palabra in pr:\r\n",
        "  print(\"1. \" ,palabra)"
      ],
      "execution_count": 6,
      "outputs": [
        {
          "output_type": "stream",
          "text": [
            "33\n",
            "1.  False\n",
            "1.  None\n",
            "1.  True\n",
            "1.  and\n",
            "1.  as\n",
            "1.  assert\n",
            "1.  break\n",
            "1.  class\n",
            "1.  continue\n",
            "1.  def\n",
            "1.  del\n",
            "1.  elif\n",
            "1.  else\n",
            "1.  except\n",
            "1.  finally\n",
            "1.  for\n",
            "1.  from\n",
            "1.  global\n",
            "1.  if\n",
            "1.  import\n",
            "1.  in\n",
            "1.  is\n",
            "1.  lambda\n",
            "1.  nonlocal\n",
            "1.  not\n",
            "1.  or\n",
            "1.  pass\n",
            "1.  raise\n",
            "1.  return\n",
            "1.  try\n",
            "1.  while\n",
            "1.  with\n",
            "1.  yield\n"
          ],
          "name": "stdout"
        }
      ]
    },
    {
      "cell_type": "markdown",
      "metadata": {
        "id": "CQqWaqGn61iS"
      },
      "source": [
        "## Variable \r\n",
        " Es un espacio de memoria de la computadora para almacenar valores que cambian a lo largo de ejecucion del programa. Este espacio de memoria esta referenciado por un identificador, el cual tiene ciertas reglas de nombrado. \r\n",
        " + no puede inicar con numero.\r\n",
        " - no debe ser igaul a alguna de las palabras revervadas\r\n",
        " + no puede teener nombres largos (no recomendable)\r\n",
        " - eviatar muy cortos (x,y,z) \r\n",
        " + usar notacion snake_case \r\n",
        " \r\n",
        "\r\n"
      ]
    },
    {
      "cell_type": "code",
      "metadata": {
        "colab": {
          "base_uri": "https://localhost:8080/",
          "height": 54
        },
        "id": "BQhxH-2l7s2T",
        "outputId": "95e65caf-8a2d-4d37-9d62-fa052ad18a48"
      },
      "source": [
        "_2edad = 12\r\n",
        "print(_2edad)\r\n",
        "\"\"\"\r\n",
        "no se peude usar una palabra reservada como identificador de variable\r\n",
        "for = 12\r\n",
        "print( for )\r\n",
        "\"\"\""
      ],
      "execution_count": 10,
      "outputs": [
        {
          "output_type": "stream",
          "text": [
            "12\n"
          ],
          "name": "stdout"
        },
        {
          "output_type": "execute_result",
          "data": {
            "application/vnd.google.colaboratory.intrinsic+json": {
              "type": "string"
            },
            "text/plain": [
              "'\\nno se peude usar una palabra reservada como identificador de variable\\nfor = 12\\nprint( for )\\n'"
            ]
          },
          "metadata": {
            "tags": []
          },
          "execution_count": 10
        }
      ]
    },
    {
      "cell_type": "code",
      "metadata": {
        "id": "Mn4WhkcS8l-3"
      },
      "source": [
        "\"\"\"\r\n",
        "La notacion snake case consta de formar el identificador de variable separando las palabras del mismo\r\n",
        "con un guion bajo\r\n",
        "\r\n",
        "- Se recomienda que los identificadores se escriban en minuscula para las variables \r\n",
        "y en mayuscula las cosntantes\r\n",
        "\r\n",
        "Es decir si tenemos una varibale para los dias de la semana, se escribirria \r\n",
        "Dias_de_la_semana = 7 \r\n",
        "dias_mes = 31\r\n",
        "limite_Maximo = 100\r\n",
        "\"\"\"\r\n"
      ],
      "execution_count": null,
      "outputs": []
    },
    {
      "cell_type": "markdown",
      "metadata": {
        "id": "Mx05R_nA99Zi"
      },
      "source": [
        "# Tipos de datos \r\n",
        "- Tipos numericos. \r\n",
        "   + int 4 bytes = 1,2,3,4,45,200,5432...\r\n",
        "   - float 4 bytes = 0.0, 1.1, 45.8 , 3.1416 ....\r\n",
        "   + long 8 bytes = ( doble del int )\r\n",
        "   - complex = 3 + 2i (Raices negativas) \r\n",
        "+ Tipos booleano: True or False\r\n",
        "- String: cadena de caracter( \"cad\" 'cad' o \"\"cad\"\")\r\n",
        "+ listas: ([1,2,3,4] , [a,b,c,d]) \r\n",
        "- Duplas: (( edad,12) , (3,4) )\r\n",
        "+ conjuntos \r\n",
        "- Diccionarios ( {\"nombre\":\"tipo\"})"
      ]
    },
    {
      "cell_type": "markdown",
      "metadata": {
        "id": "sKPNVFRVEBOo"
      },
      "source": [
        "# Tipo de dato \"String\"\r\n",
        "\r\n",
        "Este tipo de dato permite almacenar cadenas de caracteres por ejemplo:\r\n",
        "~~~\r\n",
        "Nombre = 'Margarito' \r\n",
        "Lugar_Nacimiento = \"Mexico D.F Chuatemoc\"\r\n",
        "Frase_favorita = \"\"\"\r\n",
        "no creeas todo lo que te digan, \r\n",
        "y cree solamente la mitad de lo que ves.\r\n",
        "\"\"\"\r\n",
        "~~~\r\n"
      ]
    },
    {
      "cell_type": "code",
      "metadata": {
        "colab": {
          "base_uri": "https://localhost:8080/"
        },
        "id": "8S_I7wadFiXI",
        "outputId": "2003e836-9ab2-47f6-a488-f64a0b90bfeb"
      },
      "source": [
        "Nombre = 'Margarito' \r\n",
        "Lugar_Nacimiento = \"Mexico D.F Chuatemoc\"\r\n",
        "Frase_favorita = \"\"\"\r\n",
        "no creeas todo lo que te digan, \r\n",
        "y cree solamente la mitad de lo que ves.\r\n",
        "\"\"\"\r\n",
        "print(Nombre)\r\n",
        "print(Lugar_Nacimiento)\r\n",
        "print(Frase_favorita)"
      ],
      "execution_count": 13,
      "outputs": [
        {
          "output_type": "stream",
          "text": [
            "Margarito\n",
            "Mexico D.F Chuatemoc\n",
            "\n",
            "no creeas todo lo que te digan, \n",
            "y cree solamente la mitad de lo que ves.\n",
            "\n"
          ],
          "name": "stdout"
        }
      ]
    },
    {
      "cell_type": "markdown",
      "metadata": {
        "id": "7G5nwsX8Fjn7"
      },
      "source": [
        "# String Arreglos\r\n",
        "- Un string en python es almacenado como el tipo de dato (estructura de datos) arreglo\r\n",
        "\r\n",
        "Por ejemplo la declaracion: \r\n",
        "~~~\r\n",
        "Nombre = 'Margarito'\r\n",
        "~~~\r\n",
        "El elemento 'M' es almacenado en un lugar 0, la 'a' en 1\r\n",
        "y asi sucesivamente \r\n",
        "\r\n",
        "### selector \r\n",
        "+La notacion para seleccionar un elemento del arregloo: \r\n",
        "~~~\r\n",
        "[]\r\n",
        "~~~\r\n",
        "Donde el valor interno debe ser un valor numerico entero positivo \r\n"
      ]
    },
    {
      "cell_type": "code",
      "metadata": {
        "colab": {
          "base_uri": "https://localhost:8080/"
        },
        "id": "NSjUlGWnGUjC",
        "outputId": "2daf119a-83e0-46aa-88a5-be69228cc522"
      },
      "source": [
        "Nombre = 'Margarito'\r\n",
        "print(len (Nombre))\r\n",
        "print( Nombre )\r\n",
        "print( Nombre[0])\r\n",
        "print( Nombre[5])"
      ],
      "execution_count": 15,
      "outputs": [
        {
          "output_type": "stream",
          "text": [
            "9\n",
            "Margarito\n",
            "M\n",
            "r\n"
          ],
          "name": "stdout"
        }
      ]
    },
    {
      "cell_type": "markdown",
      "metadata": {
        "id": "7sZm8wrWHRNH"
      },
      "source": [
        "# Iterar sobre un string\r\n",
        "\r\n",
        "se puede iterar sobre un string con un for de la froma siguiente:\r\n",
        "~~~\r\n",
        "for letra in range( len (Nombre) ):\r\n",
        "  print( letra ) \r\n",
        "~~~\r\n",
        "\r\n"
      ]
    },
    {
      "cell_type": "code",
      "metadata": {
        "colab": {
          "base_uri": "https://localhost:8080/"
        },
        "id": "cV_mfvOuIYWv",
        "outputId": "4c9b2e6b-e5f7-4b43-9766-fb0a74559717"
      },
      "source": [
        "for indice in range( len (Nombre) ): #len cuenta el total de letras empezando desde 0\r\n",
        "  print( indice , end =\":\" ) \r\n",
        "  print( Nombre[indice]) # Imprime cada letra con su valor \r\n"
      ],
      "execution_count": 19,
      "outputs": [
        {
          "output_type": "stream",
          "text": [
            "0:M\n",
            "1:a\n",
            "2:r\n",
            "3:g\n",
            "4:a\n",
            "5:r\n",
            "6:i\n",
            "7:t\n",
            "8:o\n"
          ],
          "name": "stdout"
        }
      ]
    },
    {
      "cell_type": "markdown",
      "metadata": {
        "id": "2Pz2kbJ1J88B"
      },
      "source": [
        "# funcion range(inicio, stpo, incremento)\r\n",
        "\r\n",
        "El inicio es opciomnal y por defecto tiene el valor 0\r\n",
        "\r\n",
        "El incremento tambien es opcional y por defecto es 1\r\n",
        "\r\n"
      ]
    },
    {
      "cell_type": "code",
      "metadata": {
        "colab": {
          "base_uri": "https://localhost:8080/"
        },
        "id": "8RCvEKS3JzLy",
        "outputId": "c07d1165-95f8-486f-d292-18a3dd00fbe3"
      },
      "source": [
        "for indice in range(0 , len(Nombre) ,1):\r\n",
        "  print(Nombre[indice])\r\n"
      ],
      "execution_count": 25,
      "outputs": [
        {
          "output_type": "stream",
          "text": [
            "M\n",
            "a\n",
            "r\n",
            "g\n",
            "a\n",
            "r\n",
            "i\n",
            "t\n",
            "o\n"
          ],
          "name": "stdout"
        }
      ]
    },
    {
      "cell_type": "code",
      "metadata": {
        "colab": {
          "base_uri": "https://localhost:8080/"
        },
        "id": "Fkp_-xqZK41X",
        "outputId": "3d3e90fa-0a54-45b9-b0d4-f3ef85fed394"
      },
      "source": [
        "for indice in range(8, -1 ,-1): #8,7,6,5...\r\n",
        "  print(Nombre[indice])\r\n",
        "  "
      ],
      "execution_count": 37,
      "outputs": [
        {
          "output_type": "stream",
          "text": [
            "o\n",
            "t\n",
            "i\n",
            "r\n",
            "a\n",
            "g\n",
            "r\n",
            "a\n",
            "M\n"
          ],
          "name": "stdout"
        }
      ]
    },
    {
      "cell_type": "markdown",
      "metadata": {
        "id": "v0346zToL40I"
      },
      "source": [
        "# String e indexado negativo\r\n",
        "\r\n",
        "En python 3 se agrega una nueva caracteristicas a los arreglos de las \r\n",
        "cadenas de caracteres, esta consta de la capacidad de indexar de forma negativa. \r\n",
        "La logica es la siguiente:\r\n",
        "\r\n",
        "El ultimo elemnto se le considera como indice  (ALTERNATIVO) -1 con lo cual se podria refetenciar el final de la cadena sin la necesidad de saber el tamaño de la misma \r\n",
        "~~~\r\n",
        "Nombre = 'Margarito' \r\n",
        "\r\n",
        "Indice normal  0,1,2,3,4,5\r\n",
        "\r\n",
        "               M a r g a r ....\r\n",
        "\r\n",
        "Indice alter. -9,-8,-7,-6...-1 \r\n",
        "~~~ \r\n",
        "                    \r\n",
        "\r\n"
      ]
    },
    {
      "cell_type": "code",
      "metadata": {
        "colab": {
          "base_uri": "https://localhost:8080/"
        },
        "id": "8gK6roNjMmGt",
        "outputId": "66691ff3-d881-47cc-fb33-0ab338f6ac2d"
      },
      "source": [
        "Nombre = 'Margarito'\r\n",
        "print(Nombre[3]) # con indexado normal\r\n",
        "print( Nombre[-6]) #con indexado alternativo\r\n"
      ],
      "execution_count": 40,
      "outputs": [
        {
          "output_type": "stream",
          "text": [
            "g\n",
            "g\n"
          ],
          "name": "stdout"
        }
      ]
    },
    {
      "cell_type": "markdown",
      "metadata": {
        "id": "QJ37WfzKPyIe"
      },
      "source": [
        "# Slicing de cadenas de caracteres \r\n",
        "\r\n",
        "Esta caracteristicas permite sacar secciones de una cadena con la siguiente sintaxis \r\n",
        "~~~\r\n",
        "[ inicio: stop :incremento ]\r\n",
        "~~~\r\n",
        "donde inicio e incremento son opcionales y tambien soportan indexado alternativo (negativas)\r\n"
      ]
    },
    {
      "cell_type": "code",
      "metadata": {
        "colab": {
          "base_uri": "https://localhost:8080/"
        },
        "id": "HmWaIq2yQbmO",
        "outputId": "fec26aa8-bc44-49c3-fd7f-a154fb9d0d83"
      },
      "source": [
        "facultad = \"Facultad de Estudios Superiores Aragon (La mejor) \"\r\n",
        "print(facultad)\r\n",
        "for indice in range(12, 20 , 1 ): #imprimir la palabra Estudios la \"E\" esta en el valor 12 y la \"s\" en el 20, y va ir de uno en uno\r\n",
        "  print(facultad[indice] , end=  \"\" )\r\n",
        "#con slicing\r\n",
        "\r\n",
        "print(\"\\n con slicing\")\r\n",
        "print(facultad[9:11:1])\r\n",
        "\r\n",
        "#Con indexado alternativo (la mejor)\r\n",
        "\r\n"
      ],
      "execution_count": 51,
      "outputs": [
        {
          "output_type": "stream",
          "text": [
            "Facultad de Estudios Superiores Aragon ( FES ) \n",
            "Estudios\n",
            " con slicing\n",
            "de\n"
          ],
          "name": "stdout"
        }
      ]
    }
  ]
}