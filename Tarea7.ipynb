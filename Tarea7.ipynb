{
  "nbformat": 4,
  "nbformat_minor": 0,
  "metadata": {
    "colab": {
      "name": "Tarea7.ipynb",
      "provenance": [],
      "authorship_tag": "ABX9TyMPcdlaiO48Lt+EnoN3Ld5r",
      "include_colab_link": true
    },
    "kernelspec": {
      "name": "python3",
      "display_name": "Python 3"
    }
  },
  "cells": [
    {
      "cell_type": "markdown",
      "metadata": {
        "id": "view-in-github",
        "colab_type": "text"
      },
      "source": [
        "<a href=\"https://colab.research.google.com/github/MargaritoMiguel/cyp_2021/blob/main/Tarea7.ipynb\" target=\"_parent\"><img src=\"https://colab.research.google.com/assets/colab-badge.svg\" alt=\"Open In Colab\"/></a>"
      ]
    },
    {
      "cell_type": "code",
      "metadata": {
        "colab": {
          "base_uri": "https://localhost:8080/"
        },
        "id": "x4574dh2S6cL",
        "outputId": "707931d5-bf92-47d6-cb22-b8fe0f286319"
      },
      "source": [
        "total = int(input(\" ingrese el numero de paises para el continente America: \"))\r\n",
        "\r\n",
        "nort = 0\r\n",
        "cent = 0\r\n",
        "sur = 0\r\n",
        "aux = 0\r\n",
        "aux2 = 0\r\n",
        "while True:\r\n",
        "  nort = int(input(\" Numero de paises para el norte: \"))\r\n",
        "  cent = int(input(\" Numero de paises ppara el centro: \"))\r\n",
        "  sur = int(input(\" Numero de paises para el sur: \"))\r\n",
        "  aux = nort + cent + sur\r\n",
        "\r\n",
        "  if aux == total:\r\n",
        "    break;\r\n",
        "  elif aux < total:\r\n",
        "    print(\"La cantidad de países ingresada por regiones es menor a la total.\")\r\n",
        "  elif aux > total:\r\n",
        "    print(\"La cantidad de países ingresada por regiones es mayor a la total.\")\r\n",
        "\r\n",
        "paises = [\"Norte\", \"Centro\", \"Sur\"]\r\n",
        "aux = 0\r\n",
        "norte = [str(0) for x in range(nort)]\r\n",
        "centro = [str(0) for x in range(cent)]\r\n",
        "Sur = [str(0) for x in range(sur)]\r\n",
        "Tot = [str(0) for x in range(total)]\r\n",
        "\r\n",
        "for i in range(total):\r\n",
        "  Tot[i] = str(input(f\"Ingresa el nombre del país {aux+1} para la región del {paises[aux2]}: \"))\r\n",
        "  aux += 1\r\n",
        "  if aux2 == 0:\r\n",
        "    if aux >= nort:\r\n",
        "      aux = 0\r\n",
        "      aux2 = 1\r\n",
        "    norte[aux] = Tot[i]\r\n",
        "  elif aux2 == 1:\r\n",
        "    if aux >= cent:\r\n",
        "      aux = 0\r\n",
        "      aux2 = 2\r\n",
        "    centro[aux] = Tot[i]\r\n",
        "  elif aux2 == 2:\r\n",
        "    if aux >= sur:\r\n",
        "      aux = 0\r\n",
        "    Sur[aux] = Tot[i]\r\n",
        "\r\n",
        "print(f\"Norte: {sorted(norte)}\")\r\n",
        "print(f\"Centro: {sorted(centro)}\")\r\n",
        "print(f\"Sur: {sorted(Sur)}\")\r\n",
        "print(f\"Todos: {sorted(Tot)}\")"
      ],
      "execution_count": 9,
      "outputs": [
        {
          "output_type": "stream",
          "text": [
            " ingrese el numero de paises para el continente America: 6\n",
            " Numero de paises para el norte: 2\n",
            " Numero de paises ppara el centro: 1\n",
            " Numero de paises para el sur: 3\n",
            "Ingresa el nombre del país 1 para la región del Norte: canada\n",
            "Ingresa el nombre del país 2 para la región del Norte: mexico\n",
            "Ingresa el nombre del país 1 para la región del Centro: salvador\n",
            "Ingresa el nombre del país 1 para la región del Sur: paraguay\n",
            "Ingresa el nombre del país 2 para la región del Sur: uruguay\n",
            "Ingresa el nombre del país 3 para la región del Sur: argentina\n",
            "Norte: ['canada', 'mexico']\n",
            "Centro: ['salvador']\n",
            "Sur: ['argentina', 'paraguay', 'uruguay']\n",
            "Todos: ['argentina', 'canada', 'mexico', 'paraguay', 'salvador', 'uruguay']\n"
          ],
          "name": "stdout"
        }
      ]
    }
  ]
}