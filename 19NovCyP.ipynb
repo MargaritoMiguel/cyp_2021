{
  "nbformat": 4,
  "nbformat_minor": 0,
  "metadata": {
    "colab": {
      "name": "19NovCyP.ipynb",
      "provenance": [],
      "authorship_tag": "ABX9TyO1y4x4pc82xotUmSdG8CxE",
      "include_colab_link": true
    },
    "kernelspec": {
      "name": "python3",
      "display_name": "Python 3"
    }
  },
  "cells": [
    {
      "cell_type": "markdown",
      "metadata": {
        "id": "view-in-github",
        "colab_type": "text"
      },
      "source": [
        "<a href=\"https://colab.research.google.com/github/MargaritoMiguel/cyp_2021/blob/main/19NovCyP.ipynb\" target=\"_parent\"><img src=\"https://colab.research.google.com/assets/colab-badge.svg\" alt=\"Open In Colab\"/></a>"
      ]
    },
    {
      "cell_type": "code",
      "metadata": {
        "id": "0q9hxTpPhLBk",
        "colab": {
          "base_uri": "https://localhost:8080/"
        },
        "outputId": "74c17a60-9a7d-4653-f4e4-f0a400d7b53d"
      },
      "source": [
        " #Asignacion de izquierda a derecha\n",
        " I = 0\n",
        " I = I + 1 \n",
        " I = I + 1 \n",
        " print(f\" I = {I}\")\n",
        " J = 5 ** 2 / 3 \n",
        " print(f\" J = {J}\") "
      ],
      "execution_count": 6,
      "outputs": [
        {
          "output_type": "stream",
          "text": [
            " I = 2\n",
            " J = 8.333333333333334\n"
          ],
          "name": "stdout"
        }
      ]
    },
    {
      "cell_type": "code",
      "metadata": {
        "colab": {
          "base_uri": "https://localhost:8080/"
        },
        "id": "dr_0Vx5amw_E",
        "outputId": "6f39972c-3a1f-4800-a500-fa12931f933c"
      },
      "source": [
        " #declaracion de variables\n",
        " A=0\n",
        " B=0\n",
        " C=0\n",
        " D=0\n",
        "\n",
        " A= int(input(\" dame un valor entero\"))\n",
        " B= int(input(\" dame un valor entero\"))\n",
        " C= int(input(\" dame un valor entero\"))\n",
        " D= int(input(\" dame un valor entero\"))\n",
        " print(D)\n",
        " print(C)\n",
        " print(B)\n",
        " print(A)\n",
        "\n"
      ],
      "execution_count": 9,
      "outputs": [
        {
          "output_type": "stream",
          "text": [
            " dame un valor entero1\n",
            " dame un valor entero2\n",
            " dame un valor entero3\n",
            " dame un valor entero4\n",
            "4\n",
            "3\n",
            "2\n",
            "1\n"
          ],
          "name": "stdout"
        }
      ]
    },
    {
      "cell_type": "code",
      "metadata": {
        "colab": {
          "base_uri": "https://localhost:8080/"
        },
        "id": "urbqCKT1pJ8p",
        "outputId": "00304fb2-c5a7-4079-b9b4-5cc87fa5fd34"
      },
      "source": [
        " #Ejemplo 1.7\n",
        " A = 0\n",
        " B = 0\n",
        " A = int(input(\" Dame un entero \"))\n",
        " B = int(input(\" Dame un entero\"))\n",
        " RES= ( A + B )** 2/3\n",
        " print(RES)\n",
        " "
      ],
      "execution_count": 11,
      "outputs": [
        {
          "output_type": "stream",
          "text": [
            " Dame un entero 14\n",
            " Dame un entero-5\n",
            "27.0\n"
          ],
          "name": "stdout"
        }
      ]
    },
    {
      "cell_type": "code",
      "metadata": {
        "colab": {
          "base_uri": "https://localhost:8080/"
        },
        "id": "F5pb8J-DtrF2",
        "outputId": "80628e74-12da-4056-bacd-b698767f3bca"
      },
      "source": [
        " #Ejemplo 1.8\n",
        " \n",
        " C1 =0\n",
        " C2 =0\n",
        " C3 =0\n",
        " C4 =0\n",
        " C5 =0\n",
        " Prom = 0\n",
        " \n",
        " C1 = float(input(\" dame un una calificacion\"))\n",
        " C2 = float(input(\" dame un una calificacion \"))\n",
        " C3 = float(input(\" dame un una calificacion\"))\n",
        " C4 = float(input(\" dame un una calificacion\"))\n",
        " C5 = float(input(\" dame un una calificacion\"))\n",
        " prom = (( C1 + C2 + C3 + C4 + C5)/5)\n",
        " print(prom )\n"
      ],
      "execution_count": 27,
      "outputs": [
        {
          "output_type": "stream",
          "text": [
            " dame un una calificacion9\n",
            " dame un una calificacion 9\n",
            " dame un una calificacion9\n",
            " dame un una calificacion9\n",
            " dame un una calificacion9\n",
            "9.0\n"
          ],
          "name": "stdout"
        }
      ]
    },
    {
      "cell_type": "code",
      "metadata": {
        "colab": {
          "base_uri": "https://localhost:8080/"
        },
        "id": "2miP29Kux_of",
        "outputId": "22e477d2-e0f9-42d8-8c06-0ce32fb8247b"
      },
      "source": [
        " #ejemplo 1.9\n",
        " num = 0\n",
        " num = int(input(\"numero:\"))\n",
        " print( num **2)\n",
        " print(num **3)"
      ],
      "execution_count": 26,
      "outputs": [
        {
          "output_type": "stream",
          "text": [
            "numero:7\n",
            "49\n",
            "343\n"
          ],
          "name": "stdout"
        }
      ]
    },
    {
      "cell_type": "code",
      "metadata": {
        "colab": {
          "base_uri": "https://localhost:8080/"
        },
        "id": "kdkJYeI9zRaP",
        "outputId": "3ba4307c-75d6-430a-81d5-80ab22e46703"
      },
      "source": [
        " #ejemplo 1.10\n",
        " b=0\n",
        " a=0\n",
        " pe=0\n",
        " are=0\n",
        " a = int(input(\" ingrese a \"))\n",
        " b = int(input(\" ingrese b\"))\n",
        " pe = ( a+a+b+b)\n",
        " are = ( a*b)\n",
        " print(pe)\n",
        " print(are)\n"
      ],
      "execution_count": 32,
      "outputs": [
        {
          "output_type": "stream",
          "text": [
            " ingrese a 8\n",
            " ingrese b8\n",
            "32\n",
            "64\n"
          ],
          "name": "stdout"
        }
      ]
    }
  ]
}