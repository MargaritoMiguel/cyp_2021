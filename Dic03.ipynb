{
  "nbformat": 4,
  "nbformat_minor": 0,
  "metadata": {
    "colab": {
      "name": "Dic03.ipynb",
      "provenance": [],
      "authorship_tag": "ABX9TyMouFjIiazV1c5LRX72irgR",
      "include_colab_link": true
    },
    "kernelspec": {
      "name": "python3",
      "display_name": "Python 3"
    }
  },
  "cells": [
    {
      "cell_type": "markdown",
      "metadata": {
        "id": "view-in-github",
        "colab_type": "text"
      },
      "source": [
        "<a href=\"https://colab.research.google.com/github/MargaritoMiguel/cyp_2021/blob/main/Dic03.ipynb\" target=\"_parent\"><img src=\"https://colab.research.google.com/assets/colab-badge.svg\" alt=\"Open In Colab\"/></a>"
      ]
    },
    {
      "cell_type": "code",
      "metadata": {
        "colab": {
          "base_uri": "https://localhost:8080/"
        },
        "id": "9LVAtou9mhAr",
        "outputId": "031ce3fc-c085-401d-b5c1-4ba5560f97b1"
      },
      "source": [
        " #Ejemplo1\n",
        " for i in[1,2,3,5]:\n",
        "   print(f\"El elemento:  {i}\")\n"
      ],
      "execution_count": 5,
      "outputs": [
        {
          "output_type": "stream",
          "text": [
            "El elemento:  1\n",
            "El elemento:  2\n",
            "El elemento:  3\n",
            "El elemento:  5\n"
          ],
          "name": "stdout"
        }
      ]
    },
    {
      "cell_type": "code",
      "metadata": {
        "colab": {
          "base_uri": "https://localhost:8080/"
        },
        "id": "_uUqP-SWnXc1",
        "outputId": "49d25b67-607d-4a33-bfcb-eb1d028063c0"
      },
      "source": [
        " coleccion = [1,2,3,4,5]\n",
        " for i in coleccion:\n",
        "   print(f\"El elemento:  {i}\")\n"
      ],
      "execution_count": 6,
      "outputs": [
        {
          "output_type": "stream",
          "text": [
            "El elemento:  1\n",
            "El elemento:  2\n",
            "El elemento:  3\n",
            "El elemento:  4\n",
            "El elemento:  5\n"
          ],
          "name": "stdout"
        }
      ]
    },
    {
      "cell_type": "code",
      "metadata": {
        "colab": {
          "base_uri": "https://localhost:8080/"
        },
        "id": "2eHQVHDbnvde",
        "outputId": "4c6f6217-d24b-4545-9981-93eaff79b713"
      },
      "source": [
        " #Ejemplo2\n",
        " coleccion={\"jim\":23, \"carlos\":23, \"luis\": 12,}\n",
        " for i in coleccion:\n",
        "   print(f\" elemento  {i}\")"
      ],
      "execution_count": 11,
      "outputs": [
        {
          "output_type": "stream",
          "text": [
            " elemento  jim\n",
            " elemento  carlos\n",
            " elemento  luis\n"
          ],
          "name": "stdout"
        }
      ]
    },
    {
      "cell_type": "code",
      "metadata": {
        "colab": {
          "base_uri": "https://localhost:8080/"
        },
        "id": "YzGt27fopQzA",
        "outputId": "fcebb8fd-7868-4336-b6c5-f395cce39ee8"
      },
      "source": [
        " coleccion={\"jim\":23, \"carlos\":23, \"luis\": 12,}\n",
        " for i in coleccion:\n",
        "   print(f\"{coleccion[i]}\")"
      ],
      "execution_count": 12,
      "outputs": [
        {
          "output_type": "stream",
          "text": [
            "23\n",
            "23\n",
            "12\n"
          ],
          "name": "stdout"
        }
      ]
    },
    {
      "cell_type": "code",
      "metadata": {
        "colab": {
          "base_uri": "https://localhost:8080/"
        },
        "id": "NkItd4a-ppKL",
        "outputId": "8d512f1b-e52b-481f-833a-a3d9aa6aee3e"
      },
      "source": [
        " coleccion={\"jim\":23, \"carlos\":23, \"luis\": 12,}\n",
        " for i in coleccion:\n",
        "   print(f\"{i}-> {coleccion[i]}\")"
      ],
      "execution_count": 16,
      "outputs": [
        {
          "output_type": "stream",
          "text": [
            "jim-> 23\n",
            "carlos-> 23\n",
            "luis-> 12\n"
          ],
          "name": "stdout"
        }
      ]
    },
    {
      "cell_type": "code",
      "metadata": {
        "colab": {
          "base_uri": "https://localhost:8080/"
        },
        "id": "r8OhfjQ2raao",
        "outputId": "cda37c8f-dc7c-4460-d8a0-e9cb01bafe4b"
      },
      "source": [
        "  coleccion={\"jim\":23, \"carlos\":23, \"luis\": 12,}\n",
        "  for clave, valor in coleccion.items():\n",
        "   print(f\"{clave} -> {valor}\")"
      ],
      "execution_count": 17,
      "outputs": [
        {
          "output_type": "stream",
          "text": [
            "jim -> 23\n",
            "carlos -> 23\n",
            "luis -> 12\n"
          ],
          "name": "stdout"
        }
      ]
    },
    {
      "cell_type": "code",
      "metadata": {
        "colab": {
          "base_uri": "https://localhost:8080/"
        },
        "id": "0eSSkzWesLpQ",
        "outputId": "818018ad-3b44-4ade-96a2-bc8762963066"
      },
      "source": [
        " #Ejemplo3\n",
        "\n",
        " email= False \n",
        " for i in(\"correo@unam.mx\"):\n",
        "   if(i == \"@\"):\n",
        "     email=True\n",
        " if email== True:\n",
        "   print(\"el email es correcto\")\n",
        " else:\n",
        "   print(\" email incorrecto\") \n",
        "\n"
      ],
      "execution_count": 18,
      "outputs": [
        {
          "output_type": "stream",
          "text": [
            "el email es correcto\n"
          ],
          "name": "stdout"
        }
      ]
    },
    {
      "cell_type": "code",
      "metadata": {
        "colab": {
          "base_uri": "https://localhost:8080/"
        },
        "id": "dGKxWndptdEs",
        "outputId": "7addb272-85bb-455c-ab60-454e5c210d0b"
      },
      "source": [
        " email= False\n",
        " miEmail = input(\" introduce tu correo de favor: \" )\n",
        " for i in(\"correo@unam.mx\"):\n",
        "   if(i == \"@\"):\n",
        "     email=True\n",
        " if email== True:\n",
        "   print(\"el email es correcto\")\n",
        " else:\n",
        "   print(\" email incorrecto\") \n"
      ],
      "execution_count": 28,
      "outputs": [
        {
          "output_type": "stream",
          "text": [
            " introduce tu correo de favor: m.mibal02@gmail.com\n",
            "el email es correcto\n"
          ],
          "name": "stdout"
        }
      ]
    },
    {
      "cell_type": "code",
      "metadata": {
        "colab": {
          "base_uri": "https://localhost:8080/"
        },
        "id": "Ff2sjOvZu_UQ",
        "outputId": "67ed2faa-d008-4403-ff89-8a3661e6b9c3"
      },
      "source": [
        " #For-Range\n",
        " for i in range (5):\n",
        "   print(\" hola\")\n",
        "          "
      ],
      "execution_count": 26,
      "outputs": [
        {
          "output_type": "stream",
          "text": [
            " hola\n",
            " hola\n",
            " hola\n",
            " hola\n",
            " hola\n"
          ],
          "name": "stdout"
        }
      ]
    },
    {
      "cell_type": "code",
      "metadata": {
        "colab": {
          "base_uri": "https://localhost:8080/"
        },
        "id": "taQ2VyUvvkl_",
        "outputId": "97c7c00b-9920-46e7-ff0c-ab3edd7e2f60"
      },
      "source": [
        " for i in range (5):\n",
        "   print(i)"
      ],
      "execution_count": 27,
      "outputs": [
        {
          "output_type": "stream",
          "text": [
            "0\n",
            "1\n",
            "2\n",
            "3\n",
            "4\n"
          ],
          "name": "stdout"
        }
      ]
    },
    {
      "cell_type": "code",
      "metadata": {
        "colab": {
          "base_uri": "https://localhost:8080/"
        },
        "id": "kQfhmUU1wP3p",
        "outputId": "b9402378-5790-447c-d4be-a9d43208e97e"
      },
      "source": [
        " for i in range (2):\n",
        "   print(f\" valor de la variable {i}\")\n"
      ],
      "execution_count": 33,
      "outputs": [
        {
          "output_type": "stream",
          "text": [
            " valor de la variable 0\n",
            " valor de la variable 1\n"
          ],
          "name": "stdout"
        }
      ]
    },
    {
      "cell_type": "code",
      "metadata": {
        "id": "UU4-k4nDx9nK"
      },
      "source": [
        " #EjemplosWhile\n",
        " i = 1 \n",
        " while ( i <= 10):\n",
        "   print(\"ejecucion \"  + str (i))\n",
        "   "
      ],
      "execution_count": null,
      "outputs": []
    },
    {
      "cell_type": "code",
      "metadata": {
        "colab": {
          "base_uri": "https://localhost:8080/"
        },
        "id": "jsdOaNzTzmfl",
        "outputId": "5abd4466-f872-4013-df23-b1e8d22df79d"
      },
      "source": [
        " i=i\n",
        " while i<=10:\n",
        "   print(\" ejecucion\" + str(i))\n",
        "   i=i+1 #Contador o incremento   \n"
      ],
      "execution_count": 38,
      "outputs": [
        {
          "output_type": "stream",
          "text": [
            " ejecucion1\n",
            " ejecucion2\n",
            " ejecucion3\n",
            " ejecucion4\n",
            " ejecucion5\n",
            " ejecucion6\n",
            " ejecucion7\n",
            " ejecucion8\n",
            " ejecucion9\n",
            " ejecucion10\n"
          ],
          "name": "stdout"
        }
      ]
    },
    {
      "cell_type": "code",
      "metadata": {
        "colab": {
          "base_uri": "https://localhost:8080/"
        },
        "id": "kiwtBLUe0roc",
        "outputId": "98ed9db6-f3f8-463f-9d6c-143097063423"
      },
      "source": [
        " edad = int(input(\" introduce tu edad \"))\n",
        " while (edad<0):\n",
        "   print(\" introduciste un edad negativa, Intentelo de nuevo\")\n",
        "   edad = int(input(\" introduce la edad \"))\n",
        "print(\" gracias por participar, puedes acceder\")\n",
        "print(\"edad del aspirante es de: \" + str (edad)) \n",
        "\n",
        "\n"
      ],
      "execution_count": 43,
      "outputs": [
        {
          "output_type": "stream",
          "text": [
            " introduce tu edad -5\n",
            " introduciste un edad negativa, Intentelo de nuevo\n",
            " introduce la edad 43\n",
            " gracias por participar, puedes acceder\n",
            "edad del aspirante es de: 43\n"
          ],
          "name": "stdout"
        }
      ]
    },
    {
      "cell_type": "code",
      "metadata": {
        "colab": {
          "base_uri": "https://localhost:8080/"
        },
        "id": "WhipSYpY16xu",
        "outputId": "4b961490-79f1-4fb1-86c0-2346c6950aa5"
      },
      "source": [
        " edad = int(input(\" introduce tu edad \"))\n",
        " while (edad<10 or edad>100):\n",
        "   print(\" introduciste un edad incorrecta para el uso de este programa, Intentelo de nuevo\")\n",
        "   edad = int(input(\" introduce la edad \"))\n",
        "print(\" gracias por participar, puedes acceder\")\n",
        "print(\"edad del aspirante es de: \" + str (edad)) "
      ],
      "execution_count": 46,
      "outputs": [
        {
          "output_type": "stream",
          "text": [
            " introduce tu edad 101\n",
            " introduciste un edad incorrecta para el uso de este programa, Intentelo de nuevo\n",
            " introduce la edad 3\n",
            " introduciste un edad incorrecta para el uso de este programa, Intentelo de nuevo\n",
            " introduce la edad -9\n",
            " introduciste un edad incorrecta para el uso de este programa, Intentelo de nuevo\n",
            " introduce la edad 35\n",
            " gracias por participar, puedes acceder\n",
            "edad del aspirante es de: 35\n"
          ],
          "name": "stdout"
        }
      ]
    }
  ]
}