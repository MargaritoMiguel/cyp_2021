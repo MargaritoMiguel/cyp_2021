{
  "nbformat": 4,
  "nbformat_minor": 0,
  "metadata": {
    "colab": {
      "name": "Tarea5.ipynb",
      "provenance": [],
      "authorship_tag": "ABX9TyO/S5XNrDPovmkwb+Cz7XUl",
      "include_colab_link": true
    },
    "kernelspec": {
      "name": "python3",
      "display_name": "Python 3"
    }
  },
  "cells": [
    {
      "cell_type": "markdown",
      "metadata": {
        "id": "view-in-github",
        "colab_type": "text"
      },
      "source": [
        "<a href=\"https://colab.research.google.com/github/MargaritoMiguel/cyp_2021/blob/main/Tarea5.ipynb\" target=\"_parent\"><img src=\"https://colab.research.google.com/assets/colab-badge.svg\" alt=\"Open In Colab\"/></a>"
      ]
    },
    {
      "cell_type": "code",
      "metadata": {
        "colab": {
          "base_uri": "https://localhost:8080/"
        },
        "id": "kD-YseUIfvsL",
        "outputId": "99e137e3-c45f-47f8-c32e-d4e8460a639b"
      },
      "source": [
        " #Ejercuicio3.1\n",
        " print(\" Hola buenas tardes \")\n",
        " nom = str(input(\" a continuacion ingrese los suledos, si esta de acuerdo ponga si \"))\n",
        " sue1 = float(input(\" ingrese el sueldo del trabajador 1 \")) \n",
        " sue2 = float(input(\" ingrese el sueldo del trabajador 2 \")) \n",
        " sue3 = float(input(\" ingrese el sueldo del trabajador 3 \")) \n",
        " sue4 = float(input(\" ingrese el sueldo del trabajador 4 \")) \n",
        " sue5 = float(input(\" ingrese el sueldo del trabajador 5 \")) \n",
        " sue6 = float(input(\" ingrese el sueldo del trabajador 6 \")) \n",
        " sue7 = float(input(\" ingrese el sueldo del trabajador 7 \")) \n",
        " sue8 = float(input(\" ingrese el sueldo del trabajador 8 \")) \n",
        " sue9 = float(input(\" ingrese el sueldo del trabajador 9 \")) \n",
        " sue10 = float(input(\" ingrese el sueldo del trabajador 10 \"))\n",
        " Nomt = print(f\" la nomina total es de: \", sue1 + sue2 +sue3 + sue4 + sue5 + sue6 +sue7 + sue8 + sue9 + sue10) \n"
      ],
      "execution_count": 4,
      "outputs": [
        {
          "output_type": "stream",
          "text": [
            " Hola buenas tardes \n",
            " a continuacion ingrese los suledos, si esta de acuerdo ponga si si\n",
            " ingrese el sueldo del trabajador 1 1500\n",
            " ingrese el sueldo del trabajador 2 890\n",
            " ingrese el sueldo del trabajador 3 700\n",
            " ingrese el sueldo del trabajador 4 950\n",
            " ingrese el sueldo del trabajador 5 2300\n",
            " ingrese el sueldo del trabajador 6 1650\n",
            " ingrese el sueldo del trabajador 7 1800\n",
            " ingrese el sueldo del trabajador 8 1400\n",
            " ingrese el sueldo del trabajador 9 760\n",
            " ingrese el sueldo del trabajador 10 900\n",
            " la nomina total es de:  12850.0\n"
          ],
          "name": "stdout"
        }
      ]
    }
  ]
}