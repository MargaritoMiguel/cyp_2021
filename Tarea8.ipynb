{
  "nbformat": 4,
  "nbformat_minor": 0,
  "metadata": {
    "colab": {
      "name": "Tarea8.ipynb",
      "provenance": [],
      "authorship_tag": "ABX9TyO7eq7fE5PX3vbGf4U8x2jC",
      "include_colab_link": true
    },
    "kernelspec": {
      "name": "python3",
      "display_name": "Python 3"
    }
  },
  "cells": [
    {
      "cell_type": "markdown",
      "metadata": {
        "id": "view-in-github",
        "colab_type": "text"
      },
      "source": [
        "<a href=\"https://colab.research.google.com/github/MargaritoMiguel/cyp_2021/blob/main/Tarea8.ipynb\" target=\"_parent\"><img src=\"https://colab.research.google.com/assets/colab-badge.svg\" alt=\"Open In Colab\"/></a>"
      ]
    },
    {
      "cell_type": "code",
      "metadata": {
        "colab": {
          "base_uri": "https://localhost:8080/"
        },
        "id": "M0KXtOqnY-Xq",
        "outputId": "1ea73402-2142-45de-b7e0-86635325fc55"
      },
      "source": [
        "print( \" \\u274C \\u274C \\u274C \\u274C \\u274C \\u274C \\u274C \\u274C \\u274C \\u274C \\u274C \\u274C \\u274C \\u274C \\u274C \\u274C \\u274C \\u274C \\u274C \\u274C \\u274C \\u274C \\u274C \\u274C \\u274C \\u274C \\u274C \\u274C \\u274C \\u274C \\u274C \\u274C \\u274C \\n \\u274C \\u274C \\u2705 \\u2705 \\u2705 \\u2705 \\u2705 \\u274C \\u2705 \\u2705 \\u2705 \\u274C \\u2705 \\u2705 \\u2705 \\u2705 \\u274C \\u2705 \\u274C \\u274C \\u2705 \\u274C \\u2705 \\u2705 \\u2705 \\u2705 \\u274C \\u2705 \\u274C \\u274C \\u274C \\u274C \\u274C \\n \\u274C \\u274C \\u2705 \\u274C \\u2705 \\u274C \\u2705 \\u274C \\u274C \\u2705 \\u274C \\u274C \\u2705 \\u274C \\u274C \\u274C \\u274C \\u2705 \\u274C \\u274C \\u2705 \\u274C \\u2705 \\u274C \\u274C \\u274C \\u274C \\u2705 \\u274C \\u274C \\u274C \\u274C \\u274C \\n \\u274C \\u274C \\u2705 \\u274C \\u274C \\u274C \\u2705 \\u274C \\u274C \\u2705 \\u274C \\u274C \\u2705 \\u274C \\u2705 \\u2705 \\u274C \\u2705 \\u274C \\u274C \\u2705 \\u274C \\u2705 \\u2705 \\u2705 \\u274C \\u274C \\u2705 \\u274C \\u274C \\u274C \\u274C \\u274C \\n \\u274C \\u274C \\u2705 \\u274C \\u274C \\u274C \\u2705 \\u274C \\u274C \\u2705 \\u274C \\u274C \\u2705 \\u274C \\u274C \\u2705 \\u274C \\u2705 \\u274C \\u274C \\u2705 \\u274C \\u2705 \\u274C \\u274C \\u274C \\u274C \\u2705 \\u274C \\u274C \\u274C \\u274C \\u274C \\n \\u274C \\u274C \\u2705 \\u274C \\u274C \\u274C \\u2705 \\u274C \\u2705 \\u2705 \\u2705 \\u274C \\u2705 \\u2705 \\u2705 \\u2705 \\u274C \\u2705 \\u2705 \\u2705 \\u2705 \\u274C \\u2705 \\u2705 \\u2705 \\u2705 \\u274C \\u2705 \\u2705 \\u2705 \\u2705 \\u274C \\u274C \\n \\u274C \\u274C \\u274C \\u274C \\u274C \\u274C \\u274C \\u274C \\u274C \\u274C \\u274C \\u274C \\u274C \\u274C \\u274C \\u274C \\u274C \\u274C \\u274C \\u274C \\u274C \\u274C \\u274C \\u274C \\u274C \\u274C \\u274C \\u274C \\u274C \\u274C \\u274C \\u274C \\u274C   \")\r\n",
        "\r\n"
      ],
      "execution_count": 110,
      "outputs": [
        {
          "output_type": "stream",
          "text": [
            " ❌ ❌ ❌ ❌ ❌ ❌ ❌ ❌ ❌ ❌ ❌ ❌ ❌ ❌ ❌ ❌ ❌ ❌ ❌ ❌ ❌ ❌ ❌ ❌ ❌ ❌ ❌ ❌ ❌ ❌ ❌ ❌ ❌ \n",
            " ❌ ❌ ✅ ✅ ✅ ✅ ✅ ❌ ✅ ✅ ✅ ❌ ✅ ✅ ✅ ✅ ❌ ✅ ❌ ❌ ✅ ❌ ✅ ✅ ✅ ✅ ❌ ✅ ❌ ❌ ❌ ❌ ❌ \n",
            " ❌ ❌ ✅ ❌ ✅ ❌ ✅ ❌ ❌ ✅ ❌ ❌ ✅ ❌ ❌ ❌ ❌ ✅ ❌ ❌ ✅ ❌ ✅ ❌ ❌ ❌ ❌ ✅ ❌ ❌ ❌ ❌ ❌ \n",
            " ❌ ❌ ✅ ❌ ❌ ❌ ✅ ❌ ❌ ✅ ❌ ❌ ✅ ❌ ✅ ✅ ❌ ✅ ❌ ❌ ✅ ❌ ✅ ✅ ✅ ❌ ❌ ✅ ❌ ❌ ❌ ❌ ❌ \n",
            " ❌ ❌ ✅ ❌ ❌ ❌ ✅ ❌ ❌ ✅ ❌ ❌ ✅ ❌ ❌ ✅ ❌ ✅ ❌ ❌ ✅ ❌ ✅ ❌ ❌ ❌ ❌ ✅ ❌ ❌ ❌ ❌ ❌ \n",
            " ❌ ❌ ✅ ❌ ❌ ❌ ✅ ❌ ✅ ✅ ✅ ❌ ✅ ✅ ✅ ✅ ❌ ✅ ✅ ✅ ✅ ❌ ✅ ✅ ✅ ✅ ❌ ✅ ✅ ✅ ✅ ❌ ❌ \n",
            " ❌ ❌ ❌ ❌ ❌ ❌ ❌ ❌ ❌ ❌ ❌ ❌ ❌ ❌ ❌ ❌ ❌ ❌ ❌ ❌ ❌ ❌ ❌ ❌ ❌ ❌ ❌ ❌ ❌ ❌ ❌ ❌ ❌   \n"
          ],
          "name": "stdout"
        }
      ]
    }
  ]
}