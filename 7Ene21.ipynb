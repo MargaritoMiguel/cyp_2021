{
  "nbformat": 4,
  "nbformat_minor": 0,
  "metadata": {
    "colab": {
      "name": "7Ene21.ipynb",
      "provenance": [],
      "authorship_tag": "ABX9TyMTwlZyLFm5wE4CS+E4T+FW",
      "include_colab_link": true
    },
    "kernelspec": {
      "name": "python3",
      "display_name": "Python 3"
    }
  },
  "cells": [
    {
      "cell_type": "markdown",
      "metadata": {
        "id": "view-in-github",
        "colab_type": "text"
      },
      "source": [
        "<a href=\"https://colab.research.google.com/github/MargaritoMiguel/cyp_2021/blob/main/7Ene21.ipynb\" target=\"_parent\"><img src=\"https://colab.research.google.com/assets/colab-badge.svg\" alt=\"Open In Colab\"/></a>"
      ]
    },
    {
      "cell_type": "code",
      "metadata": {
        "colab": {
          "base_uri": "https://localhost:8080/"
        },
        "id": "UQs9ahba4pYX",
        "outputId": "36466269-3b2c-4945-c46e-2fe21a94be6a"
      },
      "source": [
        "#ArreglosBidimensionales\r\n",
        "ren = 3\r\n",
        "col = 5\r\n",
        "VEC = [ [0 for x in range(col)]for x in range(ren)]\r\n",
        "print(VEC)\r\n",
        "VEC[1][2]=15\r\n",
        "print(VEC)\r\n",
        "\r\n",
        "print(\"Automatizar el recorrido del arreglo\")\r\n",
        "for i in range(ren):\r\n",
        "  for j in range(col):\r\n",
        "\r\n",
        "   print(f\"{i},{j} = {VEC[i][j]}\")"
      ],
      "execution_count": 11,
      "outputs": [
        {
          "output_type": "stream",
          "text": [
            "[[0, 0, 0, 0, 0], [0, 0, 0, 0, 0], [0, 0, 0, 0, 0]]\n",
            "[[0, 0, 0, 0, 0], [0, 0, 15, 0, 0], [0, 0, 0, 0, 0]]\n",
            "Automatizar el recorrido del arreglo\n",
            "0,0 = 0\n",
            "0,1 = 0\n",
            "0,2 = 0\n",
            "0,3 = 0\n",
            "0,4 = 0\n",
            "1,0 = 0\n",
            "1,1 = 0\n",
            "1,2 = 15\n",
            "1,3 = 0\n",
            "1,4 = 0\n",
            "2,0 = 0\n",
            "2,1 = 0\n",
            "2,2 = 0\n",
            "2,3 = 0\n",
            "2,4 = 0\n"
          ],
          "name": "stdout"
        }
      ]
    },
    {
      "cell_type": "code",
      "metadata": {
        "colab": {
          "base_uri": "https://localhost:8080/"
        },
        "id": "VCl5mIguE_iw",
        "outputId": "928d20f8-1729-4224-fe7d-35ef979a337e"
      },
      "source": [
        "est = int(input(\"ingrese numero de estados: \"))\r\n",
        "meses = [ [0 for x in range(12)]for x in range(est)]\r\n",
        "print(meses)\r\n",
        "for i in range(est):\r\n",
        "  for j in range(12):\r\n",
        "    mensaje = \"Dame el valor del estado, \" + str(i+1) + \" del mes \" + str(j+1), \":\"\r\n",
        "    aux = int(input(mensaje))\r\n",
        "    meses [i][j] = aux\r\n",
        "print(meses)\r\n",
        "print(\"promdedio de lluvias en los estados: \")\r\n",
        "sum = 0\r\n",
        "for i in range(est):\r\n",
        "  sum = 0\r\n",
        "  for j in range(12):\r\n",
        "    sum = sum + meses[i][j]\r\n",
        "\r\n",
        "  print(f\"promedio de lluvia en el estado {i+1} es {sum / 12}\")  \r\n",
        "\r\n",
        "\r\n"
      ],
      "execution_count": 24,
      "outputs": [
        {
          "output_type": "stream",
          "text": [
            "ingrese numero de estados: 2\n",
            "[[0, 0, 0, 0, 0, 0, 0, 0, 0, 0, 0, 0], [0, 0, 0, 0, 0, 0, 0, 0, 0, 0, 0, 0]]\n",
            "Dame el valor del estado, 1 del mes 1,:50\n",
            "Dame el valor del estado, 1 del mes 2,:7\n",
            "Dame el valor del estado, 1 del mes 3,:12\n",
            "Dame el valor del estado, 1 del mes 4,:15\n",
            "Dame el valor del estado, 1 del mes 5,:22\n",
            "Dame el valor del estado, 1 del mes 6,:50\n",
            "Dame el valor del estado, 1 del mes 7,:85\n",
            "Dame el valor del estado, 1 del mes 8,:70\n",
            "Dame el valor del estado, 1 del mes 9,:65\n",
            "Dame el valor del estado, 1 del mes 10,:28\n",
            "Dame el valor del estado, 1 del mes 11,:37\n",
            "Dame el valor del estado, 1 del mes 12,:17\n",
            "Dame el valor del estado, 2 del mes 1,:45\n",
            "Dame el valor del estado, 2 del mes 2,:3\n",
            "Dame el valor del estado, 2 del mes 3,:10\n",
            "Dame el valor del estado, 2 del mes 4,:4\n",
            "Dame el valor del estado, 2 del mes 5,:30\n",
            "Dame el valor del estado, 2 del mes 6,:90\n",
            "Dame el valor del estado, 2 del mes 7,:130\n",
            "Dame el valor del estado, 2 del mes 8,:75\n",
            "Dame el valor del estado, 2 del mes 9,:49\n",
            "Dame el valor del estado, 2 del mes 10,:37\n",
            "Dame el valor del estado, 2 del mes 11,:15\n",
            "Dame el valor del estado, 2 del mes 12,:8\n",
            "[[50, 7, 12, 15, 22, 50, 85, 70, 65, 28, 37, 17], [45, 3, 10, 4, 30, 90, 130, 75, 49, 37, 15, 8]]\n",
            "promdedio de lluvias en los estados: \n",
            "promedio de lluvia en el estado 1 es 38.166666666666664\n",
            "promedio de lluvia en el estado 2 es 41.333333333333336\n"
          ],
          "name": "stdout"
        }
      ]
    }
  ]
}