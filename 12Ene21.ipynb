{
  "nbformat": 4,
  "nbformat_minor": 0,
  "metadata": {
    "colab": {
      "name": "12Ene21.ipynb",
      "provenance": [],
      "authorship_tag": "ABX9TyPgYpkk2NsL7fEobYcn/0F+",
      "include_colab_link": true
    },
    "kernelspec": {
      "name": "python3",
      "display_name": "Python 3"
    }
  },
  "cells": [
    {
      "cell_type": "markdown",
      "metadata": {
        "id": "view-in-github",
        "colab_type": "text"
      },
      "source": [
        "<a href=\"https://colab.research.google.com/github/MargaritoMiguel/cyp_2021/blob/main/12Ene21.ipynb\" target=\"_parent\"><img src=\"https://colab.research.google.com/assets/colab-badge.svg\" alt=\"Open In Colab\"/></a>"
      ]
    },
    {
      "cell_type": "markdown",
      "metadata": {
        "id": "HrjRI1SEpT0V"
      },
      "source": [
        "# Introduccion a python \r\n",
        "- creacion en los 90´s por Guido Van R.\r\n",
        "+ en  año 2000 mejora y se actualiza\r\n",
        "- en 2020 dejo de ser version oficial python 2.7 \r\n",
        "y solo se dara soporte a python 3.0 +\r\n",
        " ## caracteristicas \r\n",
        " + Lenguaje de proposito general. \r\n",
        " - Lem¿nguaje interpretado y no compilado.\r\n",
        " + Tipos de datos dinamicos(numericos, cadena, booleanos, enteos + ) \r\n",
        " - Multiplataforma \r\n",
        " + lenguaje multi-paradigma (imperativa, POO y funcional)\r\n",
        " - Codigo es estrcturado por identacion \r\n",
        "\r\n",
        " ## Principios zen de python \r\n",
        " - son las caracteristicas que guain el diseño de lenguaje de progtamacion python\r\n",
        "   "
      ]
    },
    {
      "cell_type": "code",
      "metadata": {
        "colab": {
          "base_uri": "https://localhost:8080/"
        },
        "id": "megmro47pAgF",
        "outputId": "5e0bf9ee-18d0-463d-d9b0-56428c74ef97"
      },
      "source": [
        "# Primer programa en python.\r\n",
        "nombre = \"Jose\"\r\n",
        "edad = 18\r\n",
        "print(\" hola \" ,nombre, edad)"
      ],
      "execution_count": 5,
      "outputs": [
        {
          "output_type": "stream",
          "text": [
            " hola  Jose 18\n"
          ],
          "name": "stdout"
        }
      ]
    },
    {
      "cell_type": "markdown",
      "metadata": {
        "id": "4EBfZoZHvr-l"
      },
      "source": [
        "## La funcion print\r\n",
        " Es una de las funciones mas empleadas en programacion, busca enviar datos a la salida estandar ( monitor ) \r\n",
        " ### Formas de uso \r\n",
        " 1. con comas\r\n",
        " 1. con signos\r\n",
        " 1. con .format()\r\n",
        " 1. con el oprador f\"\r\n",
        "\r\n",
        " #### con comas :\r\n",
        " contatena los argumentos encviados a print y les agrega un espacio\r\n",
        "\r\n",
        " #### con signos + :\r\n",
        " contatena los valores sin espacio y sin hacer conversion de tipos\r\n",
        "\r\n",
        " #### Con la funcion .format() :\r\n",
        " permite darle formato a la salida de la impresion de variables, Emplea la funcion format de el tipo de dato String.\r\n",
        " \" cadena {} a {} formatear # .format(v1 , v2 , vn)\r\n",
        "\r\n",
        " Emplea como comodines para sustituir los valores, los signos{}\r\n",
        " #### con el operador f\"\r\n",
        " Es una variante de la forma anteriror pero enmascarando la funcion format().\r\n",
        " ~~~\r\n",
        " print(f\" {var} algo {var} algo\" )\r\n"
      ]
    },
    {
      "cell_type": "code",
      "metadata": {
        "colab": {
          "base_uri": "https://localhost:8080/"
        },
        "id": "3Wh3l2hYwbOk",
        "outputId": "1ad02d24-fa5c-4974-dce8-f01f301088c1"
      },
      "source": [
        "print(\"Hola\" , nombre , edad )\r\n",
        "print(\"Hola \" + nombre + \" \" + str(edad))\r\n",
        "# nombre: Jose, con una edad de: 18 años\r\n",
        "print(\"nombre:\" , nombre, \"con una edad de:\" , edad, \"años\" )\r\n",
        "print(\"nombre: \" + nombre + \"con una edad de:\" + str(edad) + \" años\" )\r\n",
        "# con .format\r\n",
        "print(\"nombre: {} con una edad de: {} años\" .format(nombre,edad))\r\n",
        "print(\"nombre: {1} con una edad de: {0} años\" .format(nombre,edad))\r\n",
        "print(\"nombre: {0} con una edad de: {1} años\" .format(nombre,edad))\r\n",
        "# con el formato f\"\r\n",
        "print(f\"nombre: {nombre} con una edad de: {edad} años\")"
      ],
      "execution_count": 17,
      "outputs": [
        {
          "output_type": "stream",
          "text": [
            "Hola Jose 18\n",
            "Hola Jose 18\n",
            "nombre: Jose con una edad de: 18 años\n",
            "nombre: Josecon una edad de:18 años\n",
            "nombre: Jose con una edad de: 18 años\n",
            "nombre: 18 con una edad de: Jose años\n",
            "nombre: Jose con una edad de: 18 años\n",
            "nombre: Jose con una edad de: 18 años\n"
          ],
          "name": "stdout"
        }
      ]
    },
    {
      "cell_type": "markdown",
      "metadata": {
        "id": "0ZKQCRc02KQc"
      },
      "source": [
        "# Funcion print() y los caracteres de escape.\r\n",
        "- \\n saslto de linea\r\n",
        "+ \\t tabulador\r\n",
        "- \\\\ imprimir la diagonal \\\r\n",
        "+ \\' y \\\" \r\n",
        "- \\uxxxx\r\n",
        "+ \\uxxxxxxxx\r\n"
      ]
    },
    {
      "cell_type": "code",
      "metadata": {
        "colab": {
          "base_uri": "https://localhost:8080/"
        },
        "id": "ib1bpyRl2Zhm",
        "outputId": "0ab97115-3ab0-47af-efc9-4198a94b65ad"
      },
      "source": [
        "print('\"')\r\n",
        "print(\"\\\"\")\r\n",
        "print(\"nombre: Jose \\n \\t con una edad \\de: 18 años\" )\r\n",
        "# caracteres unicode\r\n",
        "print(\"hola mundo \\u26A0 \") "
      ],
      "execution_count": 30,
      "outputs": [
        {
          "output_type": "stream",
          "text": [
            "\"\n",
            "\"\n",
            "nombre: Jose \n",
            " \t con una edad \\de: 18 años\n",
            "hola mundo ⚠ \n"
          ],
          "name": "stdout"
        }
      ]
    },
    {
      "cell_type": "markdown",
      "metadata": {
        "id": "GzxOl8SA8EHB"
      },
      "source": [
        "# print y salto de linea en el argumento \r\n",
        "\r\n",
        "~~~\r\n",
        "print([lista de variables a imprimir] , end = \"\\n')\r\n",
        "~~~"
      ]
    },
    {
      "cell_type": "code",
      "metadata": {
        "colab": {
          "base_uri": "https://localhost:8080/"
        },
        "id": "TdPz2dpV8CNV",
        "outputId": "1f19a8d8-fcdc-4f5d-9812-1b4febf432e0"
      },
      "source": [
        "print(\"hola\" ,end = \" \\u13CD \")\r\n",
        "print(\"mundo\" , end = \" \")\r\n",
        "print(\" fin\" ,end = \"\\n\")"
      ],
      "execution_count": 34,
      "outputs": [
        {
          "output_type": "stream",
          "text": [
            "hola Ꮝ mundo  fin\n"
          ],
          "name": "stdout"
        }
      ]
    },
    {
      "cell_type": "markdown",
      "metadata": {
        "id": "kPgBNPHW9eyy"
      },
      "source": [
        "# Comentarios en python\r\n",
        "\r\n",
        "Es un texto especial que es ignorado por el interpretre o compilador (segun sea el caso del lenjuague y es empleado para que el programador documente sus algoritmos\r\n",
        "\r\n",
        "Existen de dos tipos\r\n",
        "de linea simple y multilinea\r\n",
        "En python para linea simple emplea con # \r\n",
        "~~~\r\n",
        "# comentario de linea simple\r\n",
        "~~~\r\n",
        "para linea multiple emplea \r\n",
        "~~~\r\n",
        "\"\"\"\r\n",
        "esto es un comentario de linea mutiple\r\n",
        "\"\"\"\r\n",
        "~~~\r\n"
      ]
    },
    {
      "cell_type": "code",
      "metadata": {
        "colab": {
          "base_uri": "https://localhost:8080/"
        },
        "id": "-Vskc3EO-mLD",
        "outputId": "0806a171-8fe1-46d4-f468-a588f229cce9"
      },
      "source": [
        "print(\"hola\")\r\n",
        "# esto no se vera en pantalla \r\n",
        "print(\"mundo\")\r\n",
        "\"\"\"\r\n",
        "\r\n",
        "comentario multilinea, ideal para\r\n",
        "explicar algo a fondo con detalle\r\n",
        "\r\n",
        "\"\"\"\r\n",
        "print(\"fin\")\r\n"
      ],
      "execution_count": 39,
      "outputs": [
        {
          "output_type": "stream",
          "text": [
            "hola\n",
            "mundo\n",
            "fin\n"
          ],
          "name": "stdout"
        }
      ]
    }
  ]
}