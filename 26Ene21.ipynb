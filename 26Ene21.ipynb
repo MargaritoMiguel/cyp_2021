{
  "nbformat": 4,
  "nbformat_minor": 0,
  "metadata": {
    "colab": {
      "name": "26Ene21.ipynb",
      "provenance": [],
      "authorship_tag": "ABX9TyPF6vNp7RhU3rxI+XFeh2li",
      "include_colab_link": true
    },
    "kernelspec": {
      "name": "python3",
      "display_name": "Python 3"
    }
  },
  "cells": [
    {
      "cell_type": "markdown",
      "metadata": {
        "id": "view-in-github",
        "colab_type": "text"
      },
      "source": [
        "<a href=\"https://colab.research.google.com/github/MargaritoMiguel/cyp_2021/blob/main/26Ene21.ipynb\" target=\"_parent\"><img src=\"https://colab.research.google.com/assets/colab-badge.svg\" alt=\"Open In Colab\"/></a>"
      ]
    },
    {
      "cell_type": "markdown",
      "metadata": {
        "id": "HzN024_gtFdh"
      },
      "source": [
        "# Listas de lenjuague python 3.\r\n",
        "1. Es una estructura de datos lineal de 0 o N elementos. \r\n",
        "1. \"Equivalentes\" a los arreglos \r\n",
        "1. Pueden ser de diferente tipo de dato. [1,2,32,12] ,[1, True , 2.34, \"Hola\"]\r\n",
        "1. Pueden ser aninados, es decir listas de lsitas. [\"melon\", \"manzana roja\" , \"Manzana amarilla\", \"Manzana verde\" ,].\r\n",
        "1. Su selector es de la forma [ int ]\r\n",
        "1. Son mutables.\r\n",
        "\r\n"
      ]
    },
    {
      "cell_type": "code",
      "metadata": {
        "colab": {
          "base_uri": "https://localhost:8080/"
        },
        "id": "X7dOaabHu2J-",
        "outputId": "521d3307-6b7e-449e-9859-a03a3aceffdb"
      },
      "source": [
        "#Ejemplos\r\n",
        "numeros= [4,2,45,7,83,3]\r\n",
        "print(numeros)\r\n",
        "print(numeros[2])\r\n",
        "\r\n",
        "#Una Lsita de 0 elementos\r\n",
        "colores = [ ]\r\n",
        "type(colores) # Averiguar de que tipo de dato es una varible con la funcion type\r\n",
        "dias = list()\r\n",
        "print(colores)\r\n",
        "print(dias)\r\n"
      ],
      "execution_count": 7,
      "outputs": [
        {
          "output_type": "stream",
          "text": [
            "[4, 2, 45, 7, 83, 3]\n",
            "45\n",
            "[]\n",
            "[]\n"
          ],
          "name": "stdout"
        }
      ]
    },
    {
      "cell_type": "code",
      "metadata": {
        "colab": {
          "base_uri": "https://localhost:8080/"
        },
        "id": "LJ_aaXPewLVu",
        "outputId": "e434d2bd-964c-40f5-d36d-8f1aecab64c6"
      },
      "source": [
        "# Peuden ser de diferente tipo de dato\r\n",
        "mi_lista= [1,2,3,\"Jose\", False , 1.76, [ 5500112233 , 44553421334, 99562354]] \r\n",
        "print(mi_lista)\r\n",
        "print(mi_lista[6][0]) # imprimir el primer numero telefonico\r\n",
        "print(mi_lista[3][3]) # imprimir la \"e\" de jose\r\n",
        "print(mi_lista[3][-1: :1]) \r\n",
        "\r\n",
        "mi_lista= [1,2,3,\"Jose\", False , 1.76, [ \"5500112233\" , \"44553421334\", \"99562354\"]]\r\n",
        "print(str(mi_lista[6][1])[2]) #Sacar un numero de la segunda lista de numeros \r\n"
      ],
      "execution_count": 21,
      "outputs": [
        {
          "output_type": "stream",
          "text": [
            "[1, 2, 3, 'Jose', False, 1.76, [5500112233, 44553421334, 99562354]]\n",
            "5500112233\n",
            "e\n",
            "e\n",
            "5\n"
          ],
          "name": "stdout"
        }
      ]
    },
    {
      "cell_type": "code",
      "metadata": {
        "colab": {
          "base_uri": "https://localhost:8080/"
        },
        "id": "AiLyYJbG0TxO",
        "outputId": "bcd87dac-949d-4590-bc8a-ada90ebd44fa"
      },
      "source": [
        "fruta = [\"melon\", \"sandia\" , \"Kiwi\" , \"Aguacate\", \"Mango\", \"platano\"]\r\n",
        "print(fruta)\r\n",
        "fruta[0] = \"Melon\"\r\n",
        "print(fruta)\r\n",
        "#fruta[1][0]= \"s\"\r\n",
        "fruta[1]=fruta[1].capitalize() #convertir la \"S\" por \"s\" en la palabra sandia\r\n",
        "print(fruta)"
      ],
      "execution_count": 30,
      "outputs": [
        {
          "output_type": "stream",
          "text": [
            "['melon', 'sandia', 'Kiwi', 'Aguacate', 'Mango', 'platano']\n",
            "['Melon', 'sandia', 'Kiwi', 'Aguacate', 'Mango', 'platano']\n",
            "['Melon', 'Sandia', 'Kiwi', 'Aguacate', 'Mango', 'platano']\n"
          ],
          "name": "stdout"
        }
      ]
    },
    {
      "cell_type": "code",
      "metadata": {
        "colab": {
          "base_uri": "https://localhost:8080/"
        },
        "id": "Mxk9KfKE2GkQ",
        "outputId": "f17add63-bb58-4be8-ecba-fbb2e7a46ccb"
      },
      "source": [
        "# Las listas son clases, por lo tanto tienen metodos\r\n",
        "fruta = [\"melon\", \"sandia\" , \"Kiwi\" , \"Aguacate\", \"Mango\", \"platano\"]\r\n",
        "fruta.append(\"Fresa\") #append agrega un elemento al final\r\n",
        "print(fruta)\r\n",
        "\r\n",
        "print( \".......Ejemplo de copias........\")\r\n",
        "\r\n",
        "otras_frutas = fruta.copy()\r\n",
        "print(fruta)\r\n",
        "print(otras_frutas)\r\n",
        "otras_frutas[0] = \"chico zapote\"\r\n",
        "print(otras_frutas)\r\n",
        "print(fruta)\r\n",
        "print(\"---------------\")\r\n",
        "\r\n",
        "print(\".......Ejemplo de extend.................\")\r\n",
        "colores= [\"rojo\", \"verde\", \"azul\"]\r\n",
        "fruta.extend(colores) # junta los elementos de cada lista, las combina y forma una sola lista\r\n",
        "print(fruta)\r\n",
        "\r\n",
        "print(\".......Ejemplo insert.....................\")\r\n",
        "fruta.insert(3, \"limon \")  #Agrega un valor a la lista sin que los demas sean borrados\r\n",
        "print(fruta)\r\n",
        "\r\n",
        "print(\".........Ejemplo revome...................\")\r\n",
        "fruta.remove(\"Kiwi\") #Revomer kiwi, es decir borrar definitivamente\r\n",
        "print(fruta)\r\n",
        "\r\n",
        "print(\"..........Ejemplo del.......................\")\r\n",
        "del fruta[2] #Operador de lsita \r\n",
        "print(fruta)\r\n",
        "\r\n",
        "fruta.clear() #Vacia las listas\r\n",
        "print(fruta)\r\n"
      ],
      "execution_count": 59,
      "outputs": [
        {
          "output_type": "stream",
          "text": [
            "['melon', 'sandia', 'Kiwi', 'Aguacate', 'Mango', 'platano', 'Fresa']\n",
            ".......Ejemplo de copias........\n",
            "['melon', 'sandia', 'Kiwi', 'Aguacate', 'Mango', 'platano', 'Fresa']\n",
            "['melon', 'sandia', 'Kiwi', 'Aguacate', 'Mango', 'platano', 'Fresa']\n",
            "['chico zapote', 'sandia', 'Kiwi', 'Aguacate', 'Mango', 'platano', 'Fresa']\n",
            "['melon', 'sandia', 'Kiwi', 'Aguacate', 'Mango', 'platano', 'Fresa']\n",
            "---------------\n",
            ".......Ejemplo de extend.................\n",
            "['melon', 'sandia', 'Kiwi', 'Aguacate', 'Mango', 'platano', 'Fresa', 'rojo', 'verde', 'azul']\n",
            ".......Ejemplo insert.....................\n",
            "['melon', 'sandia', 'Kiwi', 'limon ', 'Aguacate', 'Mango', 'platano', 'Fresa', 'rojo', 'verde', 'azul']\n",
            ".........Ejemplo revome...................\n",
            "['melon', 'sandia', 'limon ', 'Aguacate', 'Mango', 'platano', 'Fresa', 'rojo', 'verde', 'azul']\n",
            "..........Ejemplo del.......................\n",
            "['melon', 'sandia', 'Aguacate', 'Mango', 'platano', 'Fresa', 'rojo', 'verde', 'azul']\n",
            "[]\n"
          ],
          "name": "stdout"
        }
      ]
    },
    {
      "cell_type": "code",
      "metadata": {
        "colab": {
          "base_uri": "https://localhost:8080/"
        },
        "id": "S0O3YX3FEaIy",
        "outputId": "74098703-e945-43b4-eb11-026c475e2064"
      },
      "source": [
        "# slicing sobre lsitas\r\n",
        "fruta = [\"melon\", \"sandia\" , \"Kiwi\" , \"Aguacate\", \"Mango\", \"platano\"]\r\n",
        "\r\n",
        "print(fruta[1:4:])\r\n",
        "\r\n",
        "Sistemas_operativos = [\"Windows\", \"Macos\" \"linux\" , \"Android\" ]\r\n",
        "autos = (\"Ford\" , \"Mazda \" , \"Honda\")\r\n",
        "\r\n",
        "cosas = [Sistemas_operativos, autos]\r\n",
        "print(cosas)\r\n",
        "\r\n",
        "print(cosas[1][1][])\r\n"
      ],
      "execution_count": 64,
      "outputs": [
        {
          "output_type": "stream",
          "text": [
            "['sandia', 'Kiwi', 'Aguacate']\n",
            "[['Windows', 'Macoslinux', 'Android'], ('Ford', 'Mazda ', 'Honda')]\n",
            "('Ford', 'Mazda ', 'Honda')\n"
          ],
          "name": "stdout"
        }
      ]
    },
    {
      "cell_type": "code",
      "metadata": {
        "colab": {
          "base_uri": "https://localhost:8080/"
        },
        "id": "BKaAMbwuHJ7G",
        "outputId": "b1070ecd-a96e-472c-8d1c-0d54036f0970"
      },
      "source": [
        "cosas = [\"jose\",True,2,3,4,5,\"pedro\",1.23]\r\n",
        "indice = 0\r\n",
        "a_eliminar=[]\r\n",
        "for elemento in cosas:\r\n",
        "    if isinstance( elemento , int ) :\r\n",
        "        print(\"entero\",elemento) # cosas.remove(elemento)\r\n",
        "        a_eliminar.append(elemento)\r\n",
        "    indice += 1\r\n",
        "\r\n",
        "print(a_eliminar)\r\n",
        "for indice in a_eliminar:\r\n",
        "    print( indice)\r\n",
        "    cosas.remove(indice)\r\n",
        "print(cosas)"
      ],
      "execution_count": 67,
      "outputs": [
        {
          "output_type": "stream",
          "text": [
            "entero True\n",
            "entero 2\n",
            "entero 3\n",
            "entero 4\n",
            "entero 5\n",
            "[True, 2, 3, 4, 5]\n",
            "True\n",
            "2\n",
            "3\n",
            "4\n",
            "5\n",
            "['jose', 'pedro', 1.23]\n"
          ],
          "name": "stdout"
        }
      ]
    },
    {
      "cell_type": "code",
      "metadata": {
        "colab": {
          "base_uri": "https://localhost:8080/"
        },
        "id": "PfE1qn__2r6e",
        "outputId": "180f3f9d-b7a7-4fb3-9577-655b47c868cf"
      },
      "source": [
        "help(frutas)"
      ],
      "execution_count": 33,
      "outputs": [
        {
          "output_type": "stream",
          "text": [
            "Help on list object:\n",
            "\n",
            "class list(object)\n",
            " |  list() -> new empty list\n",
            " |  list(iterable) -> new list initialized from iterable's items\n",
            " |  \n",
            " |  Methods defined here:\n",
            " |  \n",
            " |  __add__(self, value, /)\n",
            " |      Return self+value.\n",
            " |  \n",
            " |  __contains__(self, key, /)\n",
            " |      Return key in self.\n",
            " |  \n",
            " |  __delitem__(self, key, /)\n",
            " |      Delete self[key].\n",
            " |  \n",
            " |  __eq__(self, value, /)\n",
            " |      Return self==value.\n",
            " |  \n",
            " |  __ge__(self, value, /)\n",
            " |      Return self>=value.\n",
            " |  \n",
            " |  __getattribute__(self, name, /)\n",
            " |      Return getattr(self, name).\n",
            " |  \n",
            " |  __getitem__(...)\n",
            " |      x.__getitem__(y) <==> x[y]\n",
            " |  \n",
            " |  __gt__(self, value, /)\n",
            " |      Return self>value.\n",
            " |  \n",
            " |  __iadd__(self, value, /)\n",
            " |      Implement self+=value.\n",
            " |  \n",
            " |  __imul__(self, value, /)\n",
            " |      Implement self*=value.\n",
            " |  \n",
            " |  __init__(self, /, *args, **kwargs)\n",
            " |      Initialize self.  See help(type(self)) for accurate signature.\n",
            " |  \n",
            " |  __iter__(self, /)\n",
            " |      Implement iter(self).\n",
            " |  \n",
            " |  __le__(self, value, /)\n",
            " |      Return self<=value.\n",
            " |  \n",
            " |  __len__(self, /)\n",
            " |      Return len(self).\n",
            " |  \n",
            " |  __lt__(self, value, /)\n",
            " |      Return self<value.\n",
            " |  \n",
            " |  __mul__(self, value, /)\n",
            " |      Return self*value.\n",
            " |  \n",
            " |  __ne__(self, value, /)\n",
            " |      Return self!=value.\n",
            " |  \n",
            " |  __new__(*args, **kwargs) from builtins.type\n",
            " |      Create and return a new object.  See help(type) for accurate signature.\n",
            " |  \n",
            " |  __repr__(self, /)\n",
            " |      Return repr(self).\n",
            " |  \n",
            " |  __reversed__(...)\n",
            " |      L.__reversed__() -- return a reverse iterator over the list\n",
            " |  \n",
            " |  __rmul__(self, value, /)\n",
            " |      Return value*self.\n",
            " |  \n",
            " |  __setitem__(self, key, value, /)\n",
            " |      Set self[key] to value.\n",
            " |  \n",
            " |  __sizeof__(...)\n",
            " |      L.__sizeof__() -- size of L in memory, in bytes\n",
            " |  \n",
            " |  append(...)\n",
            " |      L.append(object) -> None -- append object to end\n",
            " |  \n",
            " |  clear(...)\n",
            " |      L.clear() -> None -- remove all items from L\n",
            " |  \n",
            " |  copy(...)\n",
            " |      L.copy() -> list -- a shallow copy of L\n",
            " |  \n",
            " |  count(...)\n",
            " |      L.count(value) -> integer -- return number of occurrences of value\n",
            " |  \n",
            " |  extend(...)\n",
            " |      L.extend(iterable) -> None -- extend list by appending elements from the iterable\n",
            " |  \n",
            " |  index(...)\n",
            " |      L.index(value, [start, [stop]]) -> integer -- return first index of value.\n",
            " |      Raises ValueError if the value is not present.\n",
            " |  \n",
            " |  insert(...)\n",
            " |      L.insert(index, object) -- insert object before index\n",
            " |  \n",
            " |  pop(...)\n",
            " |      L.pop([index]) -> item -- remove and return item at index (default last).\n",
            " |      Raises IndexError if list is empty or index is out of range.\n",
            " |  \n",
            " |  remove(...)\n",
            " |      L.remove(value) -> None -- remove first occurrence of value.\n",
            " |      Raises ValueError if the value is not present.\n",
            " |  \n",
            " |  reverse(...)\n",
            " |      L.reverse() -- reverse *IN PLACE*\n",
            " |  \n",
            " |  sort(...)\n",
            " |      L.sort(key=None, reverse=False) -> None -- stable sort *IN PLACE*\n",
            " |  \n",
            " |  ----------------------------------------------------------------------\n",
            " |  Data and other attributes defined here:\n",
            " |  \n",
            " |  __hash__ = None\n",
            "\n"
          ],
          "name": "stdout"
        }
      ]
    }
  ]
}