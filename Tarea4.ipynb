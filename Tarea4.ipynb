{
  "nbformat": 4,
  "nbformat_minor": 0,
  "metadata": {
    "colab": {
      "name": "Tarea4.ipynb",
      "provenance": [],
      "authorship_tag": "ABX9TyOzMxGqvgooGG1bIijIwcNi",
      "include_colab_link": true
    },
    "kernelspec": {
      "name": "python3",
      "display_name": "Python 3"
    }
  },
  "cells": [
    {
      "cell_type": "markdown",
      "metadata": {
        "id": "view-in-github",
        "colab_type": "text"
      },
      "source": [
        "<a href=\"https://colab.research.google.com/github/MargaritoMiguel/cyp_2021/blob/main/Tarea4.ipynb\" target=\"_parent\"><img src=\"https://colab.research.google.com/assets/colab-badge.svg\" alt=\"Open In Colab\"/></a>"
      ]
    },
    {
      "cell_type": "code",
      "metadata": {
        "colab": {
          "base_uri": "https://localhost:8080/"
        },
        "id": "zWpVMRXcefqg",
        "outputId": "0c70bc9b-42ff-4aa2-af3e-27a89dcf368e"
      },
      "source": [
        " #Ejercicio2.4\n",
        " sueldo= int(input(\" ingresa tu sueldo \"))\n",
        "if sueldo <= 1000:\n",
        "\n",
        "  print(\" su sueldo es de:\" , sueldo*1.15)\n",
        "\n",
        "else:\n",
        "  \n",
        "  SuelF = sueldo\n",
        "  print(\"su sueldo es de :\" , SuelF*1.12)\n"
      ],
      "execution_count": 9,
      "outputs": [
        {
          "output_type": "stream",
          "text": [
            " ingresa tu sueldo 840\n",
            " su sueldo es de: 965.9999999999999\n"
          ],
          "name": "stdout"
        }
      ]
    },
    {
      "cell_type": "code",
      "metadata": {
        "colab": {
          "base_uri": "https://localhost:8080/"
        },
        "id": "dgQFy7TWm83x",
        "outputId": "38059c68-c9c4-4c6b-c42e-16e259d427a1"
      },
      "source": [
        " #Ejercicio2.8\n",
        " sue= int(input(\" ingrse su sueldo \"))\n",
        " Cat= int(input(\" ingrese su categoria :\"))\n",
        "if Cat == 1:\n",
        "  \n",
        "  print(\" su sueldo es de: \" ,sue*1.15)\n",
        " elif Cat==2:\n",
        "\n",
        "   print(\" su sueldo es de: \" , sue*1.10)\n",
        "elif Cat==3:\n",
        "  print(\" su sueldo es de : \" , sue*1.08)  \n",
        "elif Cat==4:\n",
        "   print(\" su sueldo es de: \" , sue*1.07)  "
      ],
      "execution_count": 22,
      "outputs": [
        {
          "output_type": "stream",
          "text": [
            " ingrse su sueldo 6200\n",
            " ingrese su categoria :4\n",
            " su sueldo es de:  6634.0\n"
          ],
          "name": "stdout"
        }
      ]
    }
  ]
}