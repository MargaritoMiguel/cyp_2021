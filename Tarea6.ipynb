{
  "nbformat": 4,
  "nbformat_minor": 0,
  "metadata": {
    "colab": {
      "name": "Copia de Tarea6.ipynb",
      "provenance": [],
      "collapsed_sections": [],
      "authorship_tag": "ABX9TyOwq14aZLYI4cz3WZ5M60cB",
      "include_colab_link": true
    },
    "kernelspec": {
      "name": "python3",
      "display_name": "Python 3"
    }
  },
  "cells": [
    {
      "cell_type": "markdown",
      "metadata": {
        "id": "view-in-github",
        "colab_type": "text"
      },
      "source": [
        "<a href=\"https://colab.research.google.com/github/MargaritoMiguel/cyp_2021/blob/main/Tarea6.ipynb\" target=\"_parent\"><img src=\"https://colab.research.google.com/assets/colab-badge.svg\" alt=\"Open In Colab\"/></a>"
      ]
    },
    {
      "cell_type": "code",
      "metadata": {
        "colab": {
          "base_uri": "https://localhost:8080/"
        },
        "id": "lFiE1oWwZP9t",
        "outputId": "05f37cc0-0af3-4d74-8fce-8723469e67c4"
      },
      "source": [
        " #Ejercicio 3.3\r\n",
        " n = int(input(\"ingrese los valores deseados: \" ))\r\n",
        " resultado = 0\r\n",
        "\r\n",
        " for i in range(1,n+1):\r\n",
        "   resultado += (1/i)*(-1)**i\r\n",
        "\r\n",
        "\r\n",
        " print(\" el resultado es: \" , resultado)\r\n",
        "\r\n",
        "\r\n"
      ],
      "execution_count": null,
      "outputs": [
        {
          "output_type": "stream",
          "text": [
            "ingrese los valores deseados: 9\n",
            " el resultado es:  -0.7456349206349207\n"
          ],
          "name": "stdout"
        }
      ]
    },
    {
      "cell_type": "code",
      "metadata": {
        "id": "bG1Xgo4mxllA",
        "colab": {
          "base_uri": "https://localhost:8080/"
        },
        "outputId": "b28c535a-8788-446e-c1e0-1472bbf7c3ba"
      },
      "source": [
        " #Problema 3.4\r\n",
        " sueldo= int(input(\" ingresa tu sueldo 1 \"))\r\n",
        "\r\n",
        "if sueldo <= 1000:\r\n",
        "  \r\n",
        "\r\n",
        "  print(\" su sueldo1 es de:\" , sueldo1*1.15)\r\n",
        "\r\n",
        "else:\r\n",
        "  \r\n",
        "  SuelF = sueldo\r\n",
        "  print(\"su sueldo es de :\" , SuelF*1.12)\r\n",
        "   \r\n",
        "   "
      ],
      "execution_count": null,
      "outputs": [
        {
          "output_type": "stream",
          "text": [
            " ingresa tu sueldo 1 1200\n",
            "su sueldo es de : 1344.0000000000002\n"
          ],
          "name": "stdout"
        }
      ]
    },
    {
      "cell_type": "code",
      "metadata": {
        "colab": {
          "base_uri": "https://localhost:8080/"
        },
        "id": "0KhgYxlOPbkn",
        "outputId": "c35b5c02-76e5-4004-8412-5ee24c370791"
      },
      "source": [
        " #Ejercicio 3.5\r\n",
        " n = int(input(\" ingrese los valores \"))\r\n",
        "\r\n",
        " positivos = 0\r\n",
        " negativos = 0\r\n",
        " for i in range(n):\r\n",
        "    print(i)\r\n",
        "\r\n",
        "    dato= int(input(\" ingrse un numero: \"))\r\n",
        "    if dato > 0:\r\n",
        "      positivos += 1\r\n",
        "\r\n",
        "    elif dato < 0:\r\n",
        "      negativos -= 1\r\n",
        "\r\n",
        " sumaDatos = dato+dato+dato+dato+dato\r\n",
        " print(f\" La cantidaad de numeros positivos fue: \", positivos )\r\n",
        " print(f\" La canitdad de numeros positivos fue: \",negativos )\r\n",
        " print(\" el proimedio de los numeros es: \", (sumaDatos)/i)\r\n",
        " #Profesor@ el promedio lo puse daado los valores ingresados, y puestos manuelamente en la linea 17,\r\n",
        " #no pude hacer que el programa lo haga por si mismo dado los valores que de el usuario.\r\n",
        "  \r\n",
        "  \r\n",
        "\r\n"
      ],
      "execution_count": null,
      "outputs": [
        {
          "output_type": "stream",
          "text": [
            " ingrese los valores 5\n",
            "0\n",
            " ingrse un numero: 20\n",
            "1\n",
            " ingrse un numero: -4\n",
            "2\n",
            " ingrse un numero: 10\n",
            "3\n",
            " ingrse un numero: 10\n",
            "4\n",
            " ingrse un numero: -5\n",
            " La cantidaad de numeros positivos fue:  3\n",
            " La canitdad de numeros positivos fue:  -2\n",
            " el proimedio de los numeros es:  -6.25\n"
          ],
          "name": "stdout"
        }
      ]
    },
    {
      "cell_type": "code",
      "metadata": {
        "colab": {
          "base_uri": "https://localhost:8080/"
        },
        "id": "m64pV3yp4xSm",
        "outputId": "ede2a375-b2f6-4c2a-dfbe-d4f01d91e606"
      },
      "source": [
        "#Ejercicio 3.6\r\n",
        "Datos = int(input(\" cuantos numero va a ingresar? \"))\r\n",
        "if Datos < 1 :\r\n",
        "   print(\" no se puede realizar eel programa\")\r\n",
        "else:\r\n",
        "   Numeros = []\r\n",
        "   i = 1\r\n",
        "   while i <= Datos:\r\n",
        "     Numeros.append(int(input(\"Numero: \")))\r\n",
        "     i += 1\r\n",
        "   for i in range( Datos):\r\n",
        "     for j in range( Datos -1):\r\n",
        "       if Numeros[j] > Numeros[j+1]:\r\n",
        "         aux = Numeros[j+1]\r\n",
        "         Numeros[j+1] = Numeros[j]\r\n",
        "         Numeros [j] = aux\r\n",
        "   print(f\"el numero menor es: {Numeros[ 0 ]} \")\r\n",
        "   print(f\"el numero mayor es: {Numeros[ Datos -1 ]}\")       \r\n",
        "\r\n",
        "\r\n",
        "\r\n",
        "\r\n",
        "\r\n"
      ],
      "execution_count": null,
      "outputs": [
        {
          "output_type": "stream",
          "text": [
            " cuantos numero va a ingresar? 3\n",
            "Numero: 23\n",
            "Numero: 34\n",
            "Numero: 45\n",
            "el numero menor es: 23 \n",
            "el numero mayor es: 45\n"
          ],
          "name": "stdout"
        }
      ]
    },
    {
      "cell_type": "code",
      "metadata": {
        "colab": {
          "base_uri": "https://localhost:8080/"
        },
        "id": "Oy-0Xkikep4Y",
        "outputId": "80cd88df-2948-4d18-f43c-b6d408b0736e"
      },
      "source": [
        "#ejercicio 3.8\r\n",
        "n = int(input(\"ingrese un numero entero \"))\r\n",
        "while n > 1:\r\n",
        "   if n%2 == 0:\r\n",
        "     n = n / 2\r\n",
        "     print(n)\r\n",
        "   else:\r\n",
        "    n = n * 3 + 1 \r\n",
        "    print( n ) \r\n",
        "\r\n"
      ],
      "execution_count": null,
      "outputs": [
        {
          "output_type": "stream",
          "text": [
            "ingrese un numero entero 25\n",
            "76\n",
            "38.0\n",
            "19.0\n",
            "58.0\n",
            "29.0\n",
            "88.0\n",
            "44.0\n",
            "22.0\n",
            "11.0\n",
            "34.0\n",
            "17.0\n",
            "52.0\n",
            "26.0\n",
            "13.0\n",
            "40.0\n",
            "20.0\n",
            "10.0\n",
            "5.0\n",
            "16.0\n",
            "8.0\n",
            "4.0\n",
            "2.0\n",
            "1.0\n"
          ],
          "name": "stdout"
        }
      ]
    },
    {
      "cell_type": "code",
      "metadata": {
        "colab": {
          "base_uri": "https://localhost:8080/"
        },
        "id": "ObujVw0IlGXY",
        "outputId": "9fd04994-8282-424e-802f-03f6872dab7c"
      },
      "source": [
        " #ejercicio3.9\r\n",
        " n = int(input(\"ingrese el valor deseado \"))\r\n",
        " resultado = 0\r\n",
        " for i in range(1,n+1):\r\n",
        "   resultado += (i**i)\r\n",
        "\r\n",
        "\r\n",
        " print(\" el resultado es: \" , resultado)\r\n"
      ],
      "execution_count": null,
      "outputs": [
        {
          "output_type": "stream",
          "text": [
            "ingrese el valor deseado 8\n",
            " el resultado es:  17650828\n"
          ],
          "name": "stdout"
        }
      ]
    },
    {
      "cell_type": "code",
      "metadata": {
        "colab": {
          "base_uri": "https://localhost:8080/"
        },
        "id": "1G89iNQxmkdL",
        "outputId": "c3d66841-cd2d-441d-856a-4e34c7ca0aed"
      },
      "source": [
        "#ejercicio 3.10 \r\n",
        "inicio = int(input(\"ingrese el inico de la secuencia\"))\r\n",
        "final = int(input(\"ingrese el final de la secuencia\")) \r\n",
        "def fibonacci(n):\r\n",
        " if n < 180: \r\n",
        "  if n == 1:\r\n",
        "    return 1\r\n",
        "  elif n == 2:\r\n",
        "    return 1\r\n",
        "  elif n > 2:  \r\n",
        "    return fibonacci(n-1) + fibonacci(n-2)\r\n",
        " \r\n",
        "\r\n",
        "for n in  range(inicio,final):\r\n",
        "  print( fibonacci(n))    "
      ],
      "execution_count": null,
      "outputs": [
        {
          "output_type": "stream",
          "text": [
            "ingrese el inico de la secuencia0\n",
            "ingrese el final de la secuencia20\n",
            "None\n",
            "1\n",
            "1\n",
            "2\n",
            "3\n",
            "5\n",
            "8\n",
            "13\n",
            "21\n",
            "34\n",
            "55\n",
            "89\n",
            "144\n",
            "233\n",
            "377\n",
            "610\n",
            "987\n",
            "1597\n",
            "2584\n",
            "4181\n"
          ],
          "name": "stdout"
        }
      ]
    },
    {
      "cell_type": "code",
      "metadata": {
        "colab": {
          "base_uri": "https://localhost:8080/"
        },
        "id": "9Pa05Ppgv2St",
        "outputId": "f9d5e3af-a49b-4ee3-8e6c-172ad9d55e9d"
      },
      "source": [
        "#ejercicio 3.12\r\n",
        "dato1 = int(input(\" ingrese un sueldo \"))\r\n",
        "num1 = int(input(\" ingrese su numero de empleado \")) \r\n",
        "dato2 = int(input(\" ingrese un sueldo \"))\r\n",
        "num2 = int(input(\" ingrese su numero de empleado \"))\r\n",
        "dato3 = int(input(\" ingrese un sueldo \"))\r\n",
        "num3 = int(input(\" ingrese su numero de empleado \"))\r\n",
        "if dato1 >= dato2 and dato1>= dato3:\r\n",
        "   print(\"sueldo 1 es el mayor\")\r\n",
        "elif dato2>= dato1 and dato2 >= dato3:\r\n",
        "   print(dato2, \"es el mayor \")\r\n",
        "\r\n",
        " "
      ],
      "execution_count": null,
      "outputs": [
        {
          "output_type": "stream",
          "text": [
            " ingrese un sueldo 4500\n",
            " ingrese su numero de empleado 432\n",
            " ingrese un sueldo 5000\n",
            " ingrese su numero de empleado 456\n",
            " ingrese un sueldo 1000\n",
            " ingrese su numero de empleado 780\n",
            "5000 es el mayor \n"
          ],
          "name": "stdout"
        }
      ]
    },
    {
      "cell_type": "code",
      "metadata": {
        "id": "NvWTqmgNtavu",
        "colab": {
          "base_uri": "https://localhost:8080/"
        },
        "outputId": "f75f6b07-0c5d-41a7-82e0-74628b17913c"
      },
      "source": [
        "#Ejercicio 3.14\r\n",
        "\r\n",
        "secc = int(input(\" en que localidad desea comparar su boleto\"))\r\n",
        "num = int(input(\"ingrese los boletos que va a comparar\"))\r\n",
        "num = 0\r\n",
        "while (num != -1):\r\n",
        "  \r\n",
        "  if secc == 1:\r\n",
        "    num = int(input(\"ingrese los boletos que va a comparar\"))\r\n",
        "    print(\"usted a comprado \", num  ,\"boletos en la seccion \" ,secc  )\r\n",
        "    print(\" lo que es un total de: \",num*7.25)\r\n",
        "  elif secc == 2:\r\n",
        "    num = int(input(\"ingrese los boletos que va a comparar\"))\r\n",
        "    print(f\"usted a comprado \", num ,\"boletos en la seccion \" ,secc  )\r\n",
        "    print(f\" lo que es un total de: \",num*15.80)\r\n",
        "\r\n",
        "  elif secc == 3:\r\n",
        "    num = int(input(\"ingrese los boletos que va a comparar\"))  \r\n",
        "    print(\"usted a comprado \", num ,\"boletos en la seccion \" ,secc  )\r\n",
        "    print(\" lo que es un total de: \",num *25.00)\r\n",
        "  elif secc == 4:\r\n",
        "    num = int(input(\"ingrese los boletos que va a comparar\"))  \r\n",
        "    print(\"usted a comprado \", num ,\"boletos en la seccion \" ,secc  )\r\n",
        "    print(\" lo que es un total de: \",num*50.00)\r\n",
        "  elif secc == 5:\r\n",
        "    num = int(input(\"ingrese los boletos que va a comparar\"))   \r\n",
        "    print(\"usted 5a comprado \", num ,\"boletos en la seccion \" ,secc  )\r\n",
        "    print(\" lo que es un total de: \",num*75.00)      \r\n"
      ],
      "execution_count": null,
      "outputs": [
        {
          "output_type": "stream",
          "text": [
            " en que localidad desea comparar su boleto3\n",
            "ingrese los boletos que va a comparar8\n",
            "ingrese los boletos que va a comparar8\n",
            "usted a comprado  8 boletos en la seccion  3\n",
            " lo que es un total de:  200.0\n",
            "ingrese los boletos que va a comparar4\n",
            "usted a comprado  4 boletos en la seccion  3\n",
            " lo que es un total de:  100.0\n",
            "ingrese los boletos que va a comparar-1\n",
            "usted a comprado  -1 boletos en la seccion  3\n",
            " lo que es un total de:  -25.0\n"
          ],
          "name": "stdout"
        }
      ]
    },
    {
      "cell_type": "code",
      "metadata": {
        "colab": {
          "base_uri": "https://localhost:8080/"
        },
        "id": "JzVPHHlToiJj",
        "outputId": "919b47b8-8e2e-4dad-9bea-4cfb10728eda"
      },
      "source": [
        "#Ejercicio3.17\r\n",
        "num = int(input(\"ingrese un numero entero: \"))\r\n",
        "if num >1:\r\n",
        "  cont=0\r\n",
        "  for i in range(2,num):\r\n",
        "    resto = num%i\r\n",
        "    \r\n",
        "    if resto == 0:\r\n",
        "      cont+=1\r\n",
        "  if cont==0:\r\n",
        "    print(\"El {} es primo\" .format(num))\r\n",
        "  else:\r\n",
        "    print(\"El {} no es primo\" .format(num))\r\n",
        "else:\r\n",
        "  print(\"El {} es primo\" .format(num))\r\n",
        " \r\n"
      ],
      "execution_count": null,
      "outputs": [
        {
          "output_type": "stream",
          "text": [
            "ingrese un numero entero: 57\n",
            "El 57 no es primo\n"
          ],
          "name": "stdout"
        }
      ]
    },
    {
      "cell_type": "code",
      "metadata": {
        "colab": {
          "base_uri": "https://localhost:8080/"
        },
        "id": "cGTHDmwJq-pV",
        "outputId": "9dabd30c-1a2e-41b0-a442-eb020170a893"
      },
      "source": [
        "#ejercicio3.17\r\n",
        "num = int(input(\"ingrese un numero entero: \"))\r\n",
        "if n > 0:\r\n",
        "  for i in range(2,num):\r\n",
        "    cont = 2\r\n",
        "    prim = True \r\n",
        "    while prim and cont < i:\r\n",
        "      if i % cont ==0:\r\n",
        "        prim = False \r\n",
        "      else:\r\n",
        "        cont += 1\r\n",
        "    if prim :\r\n",
        "      print(i, \"es primo\")    \r\n",
        "else:\r\n",
        "  print(\"Numero incorrecto \")          \r\n"
      ],
      "execution_count": null,
      "outputs": [
        {
          "output_type": "stream",
          "text": [
            "ingrese un numero entero: 10\n",
            "2 es primo\n",
            "3 es primo\n",
            "5 es primo\n",
            "7 es primo\n"
          ],
          "name": "stdout"
        }
      ]
    },
    {
      "cell_type": "code",
      "metadata": {
        "colab": {
          "base_uri": "https://localhost:8080/"
        },
        "id": "HHeBqElMk_f4",
        "outputId": "56ca3504-f3eb-4083-8e52-671e50bd0f6a"
      },
      "source": [
        "#Ejercicio3.19\r\n",
        "num = int(input(\"ingrese un numero entero\"))\r\n",
        "for i in range(1, num):\r\n",
        "  cont = 0\r\n",
        "  j = 1\r\n",
        "  while j <= int(i/2):\r\n",
        "    if i%j == 0:\r\n",
        "      cont += j\r\n",
        "    j += 1\r\n",
        "  if cont == i:\r\n",
        "    print(f\"el numero {i} es perfecto\")\r\n",
        "\r\n"
      ],
      "execution_count": null,
      "outputs": [
        {
          "output_type": "stream",
          "text": [
            "ingrese un numero entero7\n",
            "el numero 6 es perfecto\n"
          ],
          "name": "stdout"
        }
      ]
    }
  ]
}