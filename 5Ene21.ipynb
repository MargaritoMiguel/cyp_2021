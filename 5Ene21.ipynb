{
  "nbformat": 4,
  "nbformat_minor": 0,
  "metadata": {
    "colab": {
      "name": "5Ene21.ipynb",
      "provenance": [],
      "authorship_tag": "ABX9TyMhDqqFfSwiZSilNWJ/IoQl",
      "include_colab_link": true
    },
    "kernelspec": {
      "name": "python3",
      "display_name": "Python 3"
    }
  },
  "cells": [
    {
      "cell_type": "markdown",
      "metadata": {
        "id": "view-in-github",
        "colab_type": "text"
      },
      "source": [
        "<a href=\"https://colab.research.google.com/github/MargaritoMiguel/cyp_2021/blob/main/5Ene21.ipynb\" target=\"_parent\"><img src=\"https://colab.research.google.com/assets/colab-badge.svg\" alt=\"Open In Colab\"/></a>"
      ]
    },
    {
      "cell_type": "code",
      "metadata": {
        "colab": {
          "base_uri": "https://localhost:8080/"
        },
        "id": "ZjoD2Q-hjEY3",
        "outputId": "86d3382a-5aba-4975-c3cb-f4405f94ce4b"
      },
      "source": [
        "sueldo = [float(x) for x in range(7)]\r\n",
        "for i in range(0,7):\r\n",
        "\r\n",
        "  sueldo[i] = float(i) + 1.0\r\n",
        "\r\n",
        "print(sueldo)  \r\n",
        "\r\n",
        "\r\n",
        "\r\n",
        "\r\n"
      ],
      "execution_count": 55,
      "outputs": [
        {
          "output_type": "stream",
          "text": [
            "[1.0, 2.0, 3.0, 4.0, 5.0, 6.0, 7.0]\n"
          ],
          "name": "stdout"
        }
      ]
    },
    {
      "cell_type": "code",
      "metadata": {
        "colab": {
          "base_uri": "https://localhost:8080/"
        },
        "id": "gcGhV_-soemo",
        "outputId": "9c7e593f-29cc-4f62-bf84-7825d178da67"
      },
      "source": [
        "#Problema4.1\r\n",
        "Max = 7\r\n",
        "sueldos = [ 0.0 for x in range(Max) ]\r\n",
        "suma = 0.0\r\n",
        "promedio = 0.0\r\n",
        "\r\n",
        "for i in range(Max):\r\n",
        "\r\n",
        "\r\n",
        "  sueldos[i] = float(input(\"Dame el sueldo\"))\r\n",
        "\r\n",
        "for i in range(Max):\r\n",
        "  print(f\"trabajador {i+1}, gana : { sueldos[i] } \")\r\n",
        "\r\n",
        "for i in range (Max):\r\n",
        "  suma = suma + sueldos[ i ]\r\n",
        "\r\n",
        "promedio = suma / Max\r\n",
        "\r\n",
        "print(f\"el promedio de los sueldos es: {promedio} \")\r\n",
        "\r\n",
        "for i in range(Max):\r\n",
        "  if sueldos[i] > promedio:\r\n",
        "    print(f\"El trabajador {i+1} ,tiene un sueldo mayor al promedio\")\r\n",
        "\r\n"
      ],
      "execution_count": 29,
      "outputs": [
        {
          "output_type": "stream",
          "text": [
            "Dame el sueldo4\n",
            "Dame el sueldo5\n",
            "Dame el sueldo4\n",
            "Dame el sueldo5\n",
            "Dame el sueldo4\n",
            "Dame el sueldo5\n",
            "Dame el sueldo4\n",
            "trabajador 1, gana : 4.0 \n",
            "trabajador 2, gana : 5.0 \n",
            "trabajador 3, gana : 4.0 \n",
            "trabajador 4, gana : 5.0 \n",
            "trabajador 5, gana : 4.0 \n",
            "trabajador 6, gana : 5.0 \n",
            "trabajador 7, gana : 4.0 \n",
            "el promedio de los sueldos es: 4.428571428571429 \n",
            "El trabajador 2 ,tiene un sueldo mayor al promedio\n",
            "El trabajador 4 ,tiene un sueldo mayor al promedio\n",
            "El trabajador 6 ,tiene un sueldo mayor al promedio\n"
          ],
          "name": "stdout"
        }
      ]
    },
    {
      "cell_type": "code",
      "metadata": {
        "colab": {
          "base_uri": "https://localhost:8080/"
        },
        "id": "28n5eqO0supU",
        "outputId": "37b8ab4b-2dea-48db-dd6b-534600f0af8f"
      },
      "source": [
        "Max = 5\r\n",
        "num = [ 0.0 for x in range(Max) ]\r\n",
        "Ma = 0\r\n",
        "me = 10000\r\n",
        "sum = 0\r\n",
        "prom = 0\r\n",
        "for i in range(Max):\r\n",
        "\r\n",
        "  num[i] = int(input(\"Dame un numero entero\"))\r\n",
        "  if num[i] > Ma:\r\n",
        "    Ma = num[i]\r\n",
        "  elif num[i] < me:\r\n",
        "    me = num[i]\r\n",
        "\r\n",
        "for i in range(Max):\r\n",
        "  sum = sum + num[i]\r\n",
        "\r\n",
        "prom = suma / num[i]\r\n",
        "\r\n",
        "print(f\" el mayor es: {Ma}\")\r\n",
        "print(f\" el menor es: {me}\")\r\n",
        "print(f\" el promedio es: {prom}\")\r\n",
        "\r\n",
        "\r\n"
      ],
      "execution_count": 57,
      "outputs": [
        {
          "output_type": "stream",
          "text": [
            "Dame un numero entero4\n",
            "Dame un numero entero2\n",
            "Dame un numero entero4\n",
            "Dame un numero entero3\n",
            "Dame un numero entero8\n",
            " el mayor es: 8\n",
            " el menor es: 2\n",
            " el promedio es: 3.875\n"
          ],
          "name": "stdout"
        }
      ]
    },
    {
      "cell_type": "code",
      "metadata": {
        "colab": {
          "base_uri": "https://localhost:8080/"
        },
        "id": "rW6trSgUw36-",
        "outputId": "c1d2a1de-d936-4602-e8f4-bc76f7fec69c"
      },
      "source": [
        "#Problema4.1\r\n",
        "N = int(input(\"ingrese el numero de elementos: \"))\r\n",
        "VEC = []\r\n",
        "if 1 <= N and N <= 500: #condicion\r\n",
        "  VEC = [0 for x in range(N)]\r\n",
        "  for I in range(N): #igualacion del for\r\n",
        "    VEC[I] = int(input(\"ingrese valor: \" + str (I +1) + \":\"))\r\n",
        "  print(\"Lista de numeros sin repeticiones: \")\r\n",
        "  I = 0\r\n",
        "\r\n",
        "  while I < N:\r\n",
        "    print(VEC[I])\r\n",
        "    repet = VEC[I]\r\n",
        "    while I < N and repet == VEC[I]:\r\n",
        "      I = I + 1\r\n",
        "    I = I + 1  \r\n",
        "\r\n",
        "else:\r\n",
        "  print(\" el numero de elementos es incorrecto \")\r\n",
        "\r\n",
        "\r\n",
        "\r\n",
        "\r\n",
        "\r\n",
        "\r\n"
      ],
      "execution_count": 54,
      "outputs": [
        {
          "output_type": "stream",
          "text": [
            "ingrese el numero de elementos: 10\n",
            "ingrese valor: 1:2\n",
            "ingrese valor: 2:3\n",
            "ingrese valor: 3:3\n",
            "ingrese valor: 4:3\n",
            "ingrese valor: 5:10\n",
            "ingrese valor: 6:20\n",
            "ingrese valor: 7:20\n",
            "ingrese valor: 8:40\n",
            "ingrese valor: 9:43\n",
            "ingrese valor: 10:51\n",
            "Lista de numeros sin repeticiones: \n",
            "2\n",
            "3\n",
            "20\n",
            "43\n"
          ],
          "name": "stdout"
        }
      ]
    }
  ]
}