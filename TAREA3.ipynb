{
  "nbformat": 4,
  "nbformat_minor": 0,
  "metadata": {
    "colab": {
      "name": "TAREA3.ipynb",
      "provenance": [],
      "authorship_tag": "ABX9TyPPSHj9zzdlOw3IQoje+Ow+",
      "include_colab_link": true
    },
    "kernelspec": {
      "name": "python3",
      "display_name": "Python 3"
    }
  },
  "cells": [
    {
      "cell_type": "markdown",
      "metadata": {
        "id": "view-in-github",
        "colab_type": "text"
      },
      "source": [
        "<a href=\"https://colab.research.google.com/github/MargaritoMiguel/cyp_2021/blob/main/TAREA3.ipynb\" target=\"_parent\"><img src=\"https://colab.research.google.com/assets/colab-badge.svg\" alt=\"Open In Colab\"/></a>"
      ]
    },
    {
      "cell_type": "code",
      "metadata": {
        "colab": {
          "base_uri": "https://localhost:8080/"
        },
        "id": "bjMTVZ_7zgvK",
        "outputId": "98bd9f1c-6aaa-40f5-c751-0c6f0c1109e0"
      },
      "source": [
        " #Ejempño 1.1\n",
        " PREPRO = 0\n",
        " PAGO = 0\n",
        " DEVO = 0\n",
        " PREPRO= int(input(\" ingrese el precio del producto \"))\n",
        " PAGO= int(input(\" ingrese el monto con el que pagara en peosos mexicanos \"))\n",
        " DEVO = (PAGO-PREPRO)\n",
        " print( \" la dovolucion es:\", DEVO)\n",
        " \n",
        "\n"
      ],
      "execution_count": 1,
      "outputs": [
        {
          "output_type": "stream",
          "text": [
            " ingrese el precio del producto 799\n",
            " ingrese el monto con el que pagara en peosos mexicanos 1000\n",
            " la dovolucion es: 201\n"
          ],
          "name": "stdout"
        }
      ]
    },
    {
      "cell_type": "code",
      "metadata": {
        "colab": {
          "base_uri": "https://localhost:8080/"
        },
        "id": "hMV4L2UW1mnU",
        "outputId": "a212769c-936f-45fd-883d-17cea64d7900"
      },
      "source": [
        " #Ejemplo 1.2\n",
        " ALTU = 0\n",
        " BASE = 0\n",
        " Superficie = 0\n",
        " ALTU = int(input(\" ingrese el valor de altura \"))\n",
        " BASE = int(input(\" ingrese el valor de BASE \"))\n",
        " Superficie = (( BASE*ALTU) / 2 )\n",
        " print( \"la superficie es: \" , Superficie)"
      ],
      "execution_count": 2,
      "outputs": [
        {
          "output_type": "stream",
          "text": [
            " ingrese el valor de altura 34\n",
            " ingrese el valor de BASE 2\n",
            "la superficie es:  34.0\n"
          ],
          "name": "stdout"
        }
      ]
    },
    {
      "cell_type": "code",
      "metadata": {
        "colab": {
          "base_uri": "https://localhost:8080/"
        },
        "id": "TjXIjVtYAF-m",
        "outputId": "dacd4d4b-b481-4ea0-806e-5dffceabf287"
      },
      "source": [
        " #eJEMPLO 1.3\n",
        " \n",
        " PESO = 0\n",
        " LONGUITUD = 0\n",
        " TONELADA = 0\n",
        " PIE = 0\n",
        " CONVERION_PESO = 0\n",
        " CONVERSION_lONGUITUD = 0 \n",
        " \n",
        " PESO = float(input( \" ingrese el peso del dinosaurio : \"))\n",
        " METROS = float(input( \" inngrese la medida de dicho dinosaurio \"))\n",
        " TONELADA = 1000\n",
        " PIE = 0.3047\n",
        " CONVERSION_PESO = (PESO*TONELADA )\n",
        " CONVERSION_LONGUITUD = (METROS*PIE)\n",
        " print( \" el peso en toneladas es: \", CONVERSION_PESO)\n",
        " print( \" la longuitud en pies es de: \" , CONVERSION_LONGUITUD)\n"
      ],
      "execution_count": 39,
      "outputs": [
        {
          "output_type": "stream",
          "text": [
            " ingrese el peso del dinosaurio : 5\n",
            " inngrese la medida de dicho dinosaurio 30\n",
            " el peso en toneladas es:  5000.0\n",
            " la longuitud en pies es de:  9.141\n"
          ],
          "name": "stdout"
        }
      ]
    },
    {
      "cell_type": "code",
      "metadata": {
        "colab": {
          "base_uri": "https://localhost:8080/"
        },
        "id": "hrKLSGY43XKp",
        "outputId": "dfef0e7d-5048-4778-9dbe-69db9c38fc24"
      },
      "source": [
        " #Ejemplo 1.4\n",
        " GAL = 3.785\n",
        " LITRO = 8.20 \n",
        " GALONES = 0\n",
        " total = 0\n",
        " GALONES= float(input( \" ingrse cuantos GALONES desea comprar : \" ))\n",
        " total = (GALONES*LITRO) * GAL\n",
        " print( \" litros por galon:\" , GAL)\n",
        " print( \" sabiendo que el costo por litro es de: 8.20\")\n",
        " print( \"costo total: \" , total  )\n",
        "  \n",
        "\n",
        "\n",
        "\n",
        "\n"
      ],
      "execution_count": 9,
      "outputs": [
        {
          "output_type": "stream",
          "text": [
            " ingrse cuantos GALONES desea comprar : 3\n",
            " litros por galon: 3.785\n",
            " sabiendo que el costo por litro es de: 8.20\n",
            "costo total:  93.11099999999999\n"
          ],
          "name": "stdout"
        }
      ]
    },
    {
      "cell_type": "code",
      "metadata": {
        "colab": {
          "base_uri": "https://localhost:8080/"
        },
        "id": "rXA8vhxs6pcO",
        "outputId": "740eed0c-e0df-4508-9610-911565ebe3c9"
      },
      "source": [
        " #Ejemplo 1.5\n",
        " RADIO = 0\n",
        " ALTURA = 0\n",
        " VOLUMEN = 0\n",
        " AREA = 0\n",
        " pi = 3.1415\n",
        " RADIO = float(input( \" ingrse el valor del radio: \" ))\n",
        " ALTURA = float(input( \" ingrse el valor de la altura: \" ))\n",
        " pi = ( 3.1415)\n",
        " VOLUMEN = pi*RADIO**2*ALTURA\n",
        " AREA = ( 2*pi*RADIO*ALTURA)\n",
        " print( \" valor del area es :\" , AREA)\n",
        " print( \" el valor del volumen es: \" , VOLUMEN)\n"
      ],
      "execution_count": 19,
      "outputs": [
        {
          "output_type": "stream",
          "text": [
            " ingrse el valor del radio: 45.22\n",
            " ingrse el valor de la altura: 11.60\n",
            " valor del area es : 3295.7602159999997\n",
            " el valor del volumen es:  74517.13848375999\n"
          ],
          "name": "stdout"
        }
      ]
    },
    {
      "cell_type": "code",
      "metadata": {
        "colab": {
          "base_uri": "https://localhost:8080/"
        },
        "id": "TWdd0BYR9psR",
        "outputId": "fa20ad73-8264-4366-fb21-95e114973f0b"
      },
      "source": [
        " #Ejemplo 1.6\n",
        " DIAS = 0\n",
        " SEGUNDOS = 0\n",
        " TOTAL = 0\n",
        " MINUTOS = 0\n",
        " HORA = 0\n",
        " DIAS = float(input( \" ingrese los dias que quiera saber: \" ))\n",
        " SEGUNDOS = 60\n",
        " MINUTOS = 60\n",
        " DIA = 24\n",
        " TOTAL = DIAS*DIA*MINUTOS*SEGUNDOS\n",
        " print( \" el resultado es : \" , TOTAL)"
      ],
      "execution_count": 29,
      "outputs": [
        {
          "output_type": "stream",
          "text": [
            " ingrese los dias que quiera saber: 7\n",
            " el resultado es :  604800.0\n"
          ],
          "name": "stdout"
        }
      ]
    }
  ]
}