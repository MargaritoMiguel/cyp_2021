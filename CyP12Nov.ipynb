{
  "nbformat": 4,
  "nbformat_minor": 0,
  "metadata": {
    "colab": {
      "name": "CyP12Nov.ipynb",
      "provenance": [],
      "authorship_tag": "ABX9TyMUKNCpi26eD7mS04UlxRh8",
      "include_colab_link": true
    },
    "kernelspec": {
      "name": "python3",
      "display_name": "Python 3"
    }
  },
  "cells": [
    {
      "cell_type": "markdown",
      "metadata": {
        "id": "view-in-github",
        "colab_type": "text"
      },
      "source": [
        "<a href=\"https://colab.research.google.com/github/MargaritoMiguel/cyp_2021/blob/main/CyP12Nov.ipynb\" target=\"_parent\"><img src=\"https://colab.research.google.com/assets/colab-badge.svg\" alt=\"Open In Colab\"/></a>"
      ]
    },
    {
      "cell_type": "code",
      "metadata": {
        "id": "1-dsreIecI0z",
        "outputId": "a0d5c5fe-102e-4f43-f9f5-bbcf8c7be595",
        "colab": {
          "base_uri": "https://localhost:8080/"
        }
      },
      "source": [
        "numero = int (input(\" dame un numero \"))\n",
        "if numero >0: \n",
        " print ( \" el numero es positivo \")\n",
        "\n",
        "print ( \" fin del programa \")"
      ],
      "execution_count": 2,
      "outputs": [
        {
          "output_type": "stream",
          "text": [
            " dame un numero 0\n",
            " fin del programa \n"
          ],
          "name": "stdout"
        }
      ]
    },
    {
      "cell_type": "code",
      "metadata": {
        "id": "4lruosbIfDhk",
        "outputId": "fc89865c-f950-4f8e-b232-487239219be3",
        "colab": {
          "base_uri": "https://localhost:8080/"
        }
      },
      "source": [
        "#ejemplo 2\n",
        "numero = int (input(\" dijite un numero \"))\n",
        "if numero >0:\n",
        "  print(\" su numero es positivo\")\n",
        "else : \n",
        "  print(\" el numero es negativo\")\n",
        "  "
      ],
      "execution_count": 4,
      "outputs": [
        {
          "output_type": "stream",
          "text": [
            " dijite un numero -5\n",
            " el numero es negativo\n"
          ],
          "name": "stdout"
        }
      ]
    },
    {
      "cell_type": "code",
      "metadata": {
        "id": "SLgRGNX5g2r7",
        "outputId": "0db3c9bf-c501-4d0b-9ce9-8d9d8c03d9e9",
        "colab": {
          "base_uri": "https://localhost:8080/"
        }
      },
      "source": [
        "#ejemplo3\n",
        "numero = int (input(\" dijite un numero \"))\n",
        "if numero >0:\n",
        "  print(\" su numero es positivo\")\n",
        "elif numero==0:\n",
        "  print(\" el numero es 0\")  \n",
        "else : \n",
        "  print(\" el numero es negativo\")\n",
        "  print (\" fin del programa\") \n"
      ],
      "execution_count": 7,
      "outputs": [
        {
          "output_type": "stream",
          "text": [
            " dijite un numero -0\n",
            " el numero es 0\n"
          ],
          "name": "stdout"
        }
      ]
    }
  ]
}