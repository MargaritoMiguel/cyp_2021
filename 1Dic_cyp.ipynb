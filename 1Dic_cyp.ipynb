{
  "nbformat": 4,
  "nbformat_minor": 0,
  "metadata": {
    "colab": {
      "name": "1Dic_cyp.ipynb",
      "provenance": [],
      "authorship_tag": "ABX9TyPWVS5cO0D218xKb7OkWc/N",
      "include_colab_link": true
    },
    "kernelspec": {
      "name": "python3",
      "display_name": "Python 3"
    }
  },
  "cells": [
    {
      "cell_type": "markdown",
      "metadata": {
        "id": "view-in-github",
        "colab_type": "text"
      },
      "source": [
        "<a href=\"https://colab.research.google.com/github/MargaritoMiguel/cyp_2021/blob/main/1Dic_cyp.ipynb\" target=\"_parent\"><img src=\"https://colab.research.google.com/assets/colab-badge.svg\" alt=\"Open In Colab\"/></a>"
      ]
    },
    {
      "cell_type": "code",
      "metadata": {
        "colab": {
          "base_uri": "https://localhost:8080/"
        },
        "id": "ANpJhB2BTOmS",
        "outputId": "d09a52f7-85c4-4d29-adf9-34f87298c2af"
      },
      "source": [
        " #Ejemplo1_NumerosMayor\n",
        " num1=int(input(\" Elije un numero cualquiera: \"))\n",
        " num2=int(input(\" Elije un numero cualquiera: \"))\n",
        " num3=int(input(\" Elije un numero cualquiera: \"))\n",
        " if num1 >=num2 and num1>=num3:\n",
        "   print(\"numero 1 es ek mayor\")\n",
        " elif num2>= num1 and num2 >=num3:\n",
        "   print(num2, \"es el mayor\")\n"
      ],
      "execution_count": 5,
      "outputs": [
        {
          "output_type": "stream",
          "text": [
            " Elije un numero cualquiera: 3\n",
            " Elije un numero cualquiera: 4\n",
            " Elije un numero cualquiera: 5\n"
          ],
          "name": "stdout"
        }
      ]
    },
    {
      "cell_type": "code",
      "metadata": {
        "colab": {
          "base_uri": "https://localhost:8080/"
        },
        "id": "awX3kzxNVjI8",
        "outputId": "8407d93f-94de-4266-f2aa-f71700d922cd"
      },
      "source": [
        " #Ejemplo 2\n",
        "print(\"Ingrese el nombre del trabajador\")\n",
        "nombre=str (input())\n",
        "print(\"¿Cuantas horas trabajo esta semana?\",nombre,\":\" )\n",
        "horas=int (input())\n",
        "print(\"¿Cuanto se le paga por hora?:\")\n",
        "sueldoH= float (input())\n",
        "\n",
        "#Evaluar su sueldo\n",
        "\n",
        "if (horas<=40):\n",
        "  pago = horas*sueldoH\n",
        "  print(nombre,\"Su pago total es de $\",pago)\n",
        "\n",
        "else:\n",
        "  extras = horas - 40\n",
        "  pago = 40*sueldoH\n",
        "  pagoFinal = pago + ((extras * sueldoH)*2)\n",
        "  print(nombre,\"Su pago total es de $\",pagoFinal)"
      ],
      "execution_count": 35,
      "outputs": [
        {
          "output_type": "stream",
          "text": [
            "Ingrese el nombre del trabajador\n",
            "pam\n",
            "¿Cuantas horas trabajo esta semana? pam :\n",
            "45\n",
            "¿Cuanto se le paga por hora?:\n",
            "23\n",
            "pam Su pago total es de $ 1150.0\n"
          ],
          "name": "stdout"
        }
      ]
    },
    {
      "cell_type": "code",
      "metadata": {
        "colab": {
          "base_uri": "https://localhost:8080/"
        },
        "id": "3z3SQ6DbbckJ",
        "outputId": "0d3a92d8-eee7-4b54-c3a7-fc4f238f6d46"
      },
      "source": [
        "#Ejemplo 3\n",
        "\n",
        "print(\"Ingrese el nombre del trabajador\")\n",
        "nombre=str (input())\n",
        "print(\"¿Cuantas horas trabajo esta semana?\",nombre,\":\" )\n",
        "horas=int (input())\n",
        "print(\"¿Cuanto se le paga por hora?:\")\n",
        "sueldoH= float (input())\n",
        "\n",
        "#Evaluar el sueldo\n",
        "\n",
        "if (horas<=40):\n",
        "  pago=horas*sueldoH\n",
        "  print(nombre, \"su sueldo final es de $\",pago,\"\\n\")\n",
        "\n",
        "elif ((horas>=41)and(horas<=50)):\n",
        "  extrasDobles = horas-40\n",
        "  print(\"Horas extras dobles:\",extrasDobles)\n",
        "  pago=40*sueldoH\n",
        "  print(\"Sueldo base: $\",pago)\n",
        "  pagoDoble=extrasDobles*(sueldoH*2)\n",
        "  print(\"Pago de horas dobles: $\",pagoDoble)\n",
        "  pagoFinal=pagoDoble+pago\n",
        "  print(nombre, \",su sueldo total es de $\",pagoFinal)\n",
        "\n",
        "elif (horas>50 and horas <=60):\n",
        "  extrasTriples=horas-50\n",
        "  print(\"horas extra dobles\")\n",
        "  print(\"horas extras triples\" , extrasTriples)\n",
        "  pago = 40 * sueldoH\n",
        "  print( \" sueldo base: \" , pago )\n",
        "  pagoDoble= 10*sueldoH*2\n",
        "  print(\" pago de horas extras dobles \" , pagoDoble)\n",
        "  pagoTriple= extrasTriples * sueldoH*3\n",
        "  print(\" pado de horas extra triples\" , pagoTriple)\n",
        "  pagoFinal = pago+ pagoDoble + pagoTriple\n",
        "  print(\" el sueldo final de \"  , nombre , \" es de : \" , pagoFinal)\n",
        "\n",
        "else:\n",
        "  extrasTriples=10\n",
        "  print(\" horas extras dobles 10\")\n",
        "  print(\" horas extras triples 10\")\n",
        "  pago= 40*sueldoH\n",
        "  print(\"Sueldo base es de: \" ,pago)\n",
        "  pagoDoble= 10*sueldoH*2\n",
        "  print(\" pago de horas extras dobles \" , pagoDoble)\n",
        "  pagoTriple= extrasTriples * sueldoH*3\n",
        "  print(\" pado de horas extra triples\" , pagoTriple)\n",
        "  print(\" incentivo por trabajar mas de 60 horas es de: $2000 mxn\")\n",
        "  pagoFinal= pago + pagoDoble + pagoTriple + 2000\n",
        "  print(\" el sueldo final de \"  , nombre , \" es de : \" , pagoFinal)\n",
        "\n",
        "\n",
        "     \n",
        "\n",
        "  "
      ],
      "execution_count": 34,
      "outputs": [
        {
          "output_type": "stream",
          "text": [
            "Ingrese el nombre del trabajador\n",
            "Michael Scott\n",
            "¿Cuantas horas trabajo esta semana? Michael Scott :\n",
            "65\n",
            "¿Cuanto se le paga por hora?:\n",
            "200\n",
            " horas extras dobles 10\n",
            " horas extras triples 10\n",
            "Sueldo base es de:  8000.0\n",
            " pago de horas extras dobles  4000.0\n",
            " pado de horas extra triples 6000.0\n",
            " incentivo por trabajar mas de 60 horas es de: $2000 mxn\n",
            " el sueldo final de  Michael Scott  es de :  20000.0\n"
          ],
          "name": "stdout"
        }
      ]
    }
  ]
}